{
 "cells": [
  {
   "cell_type": "markdown",
   "metadata": {},
   "source": [
    "# CalTech 101 - CNN "
   ]
  },
  {
   "cell_type": "markdown",
   "metadata": {},
   "source": [
    "## All Imports "
   ]
  },
  {
   "cell_type": "code",
   "execution_count": 12,
   "metadata": {},
   "outputs": [],
   "source": [
    "import os\n",
    "import cv2\n",
    "import numpy as np\n",
    "from matplotlib.pyplot import imshow\n",
    "%matplotlib inline\n",
    "from sklearn.preprocessing import LabelEncoder\n",
    "from keras.utils import to_categorical\n",
    "from sklearn.model_selection import train_test_split\n",
    "from keras.models import Sequential, Model, load_model\n",
    "from keras.layers import Conv2D, Dropout, Dense, MaxPooling2D, Flatten, GlobalAveragePooling2D\n",
    "from keras.optimizers import Adadelta\n",
    "from keras.callbacks import ModelCheckpoint, EarlyStopping\n",
    "from keras.applications.inception_v3 import InceptionV3\n"
   ]
  },
  {
   "cell_type": "markdown",
   "id": "b3c28c01",
   "metadata": {},
   "source": [
    "## Data Loading\n"
   ]
  },
  {
   "cell_type": "code",
   "execution_count": 3,
   "metadata": {},
   "outputs": [
    {
     "name": "stdout",
     "output_type": "stream",
     "text": [
      "Done\n"
     ]
    }
   ],
   "source": [
    "def extract_dataset(dataset_file_path, extraction_directory):\n",
    "    os.makedirs(extraction_directory, exist_ok=True)\n",
    "    with tarfile.open(dataset_file_path) as tar:\n",
    "        tar.extractall(path=extraction_directory)\n",
    "    print(\"Done\")\n",
    "\n",
    "extract_dataset('./dataset.tgz','./data/')"
   ]
  },
  {
   "cell_type": "markdown",
   "metadata": {},
   "source": [
    "## Examining dataset"
   ]
  },
  {
   "cell_type": "code",
   "execution_count": null,
   "metadata": {},
   "outputs": [],
   "source": [
    "def get_image(object_category, data_directory):\n",
    "    data_directory = os.path.abspath(data_directory)\n",
    "    obj_category_dir = os.path.join(data_directory, \"101_ObjectCategories\", object_category)\n",
    "\n",
    "    if not os.path.exists(obj_category_dir):\n",
    "        print(f\"Object category directory {obj_category_dir} not found.\")\n",
    "        return\n",
    "\n",
    "    images = [os.path.join(obj_category_dir, img) for img in os.listdir(obj_category_dir)]\n",
    "    return images\n",
    "\n",
    "def read_image(image_path):\n",
    "    \"\"\"Resize and read individual images - The average image size in Caltech 101 is 300x200, so adjustments are made accordingly.\"\"\"\n",
    "    img = cv2.imread(image_path, cv2.IMREAD_COLOR)\n",
    "    img = cv2.resize(img, (300, 200), interpolation=cv2.INTER_CUBIC)\n",
    "    return img"
   ]
  },
  {
   "cell_type": "code",
   "execution_count": 180,
   "metadata": {},
   "outputs": [],
   "source": [
    "def get_image(object_category, data_directory):\n",
    "    data_directory = os.path.abspath(data_directory)\n",
    "    obj_category_dir = os.path.join(data_directory, \"101_ObjectCategories\", object_category)\n",
    "\n",
    "    if not os.path.exists(obj_category_dir):\n",
    "        print(f\"Object category directory {obj_category_dir} not found.\")\n",
    "        return\n",
    "\n",
    "    images = [os.path.join(obj_category_dir, img) for img in os.listdir(obj_category_dir)]\n",
    "    return images\n",
    "\n",
    "def read_image(image_path):\n",
    "    \"\"\"Resize and read individual images - The average image size in Caltech 101 is 300x200, so adjustments are made accordingly.\"\"\"\n",
    "    img = cv2.imread(image_path, cv2.IMREAD_COLOR)\n",
    "    img = cv2.resize(img, (300, 200), interpolation=cv2.INTER_CUBIC)\n",
    "    return img"
   ]
  },
  {
   "cell_type": "code",
   "execution_count": 5,
   "metadata": {},
   "outputs": [],
   "source": [
    "dolphin_img = get_image('dolphin','./data')"
   ]
  },
  {
   "cell_type": "code",
   "execution_count": 6,
   "metadata": {},
   "outputs": [
    {
     "data": {
      "text/plain": [
       "'./data/101_ObjectCategories/dolphin/image_0012.jpg'"
      ]
     },
     "execution_count": 6,
     "metadata": {},
     "output_type": "execute_result"
    }
   ],
   "source": [
    "dolphin_img[0]"
   ]
  },
  {
   "cell_type": "code",
   "execution_count": 7,
   "metadata": {},
   "outputs": [],
   "source": [
    "dolphin_test_img = read_image(dolphin_imgs[0])"
   ]
  },
  {
   "cell_type": "code",
   "execution_count": 8,
   "metadata": {},
   "outputs": [
    {
     "data": {
      "text/plain": [
       "(200, 300, 3)"
      ]
     },
     "execution_count": 8,
     "metadata": {},
     "output_type": "execute_result"
    }
   ],
   "source": [
    "dolphin_test_img.shape"
   ]
  },
  {
   "cell_type": "markdown",
   "metadata": {},
   "source": [
    "#### Finding image count for each category"
   ]
  },
  {
   "cell_type": "code",
   "execution_count": 181,
   "metadata": {},
   "outputs": [],
   "source": [
    "def get_image_counts_by_category(data_directory):\n",
    "    categories_dir = os.path.join(data_directory, \"101_ObjectCategories\")\n",
    "    categories = os.listdir(categories_dir)\n",
    "    object_images_count_dict = {category: len(os.listdir(os.path.join(categories_dir, category))) for category in categories}\n",
    "    object_images_count_dict = sorted(object_images_count_dict.items(), key=operator.itemgetter(1), reverse=True)\n",
    "    return object_images_count_dict"
   ]
  },
  {
   "cell_type": "code",
   "execution_count": 10,
   "metadata": {},
   "outputs": [
    {
     "data": {
      "text/plain": [
       "[('airplanes', 800),\n",
       " ('Motorbikes', 798),\n",
       " ('BACKGROUND_Google', 468),\n",
       " ('Faces', 435),\n",
       " ('Faces_easy', 435),\n",
       " ('watch', 239),\n",
       " ('Leopards', 200),\n",
       " ('bonsai', 128),\n",
       " ('car_side', 123),\n",
       " ('ketch', 114),\n",
       " ('chandelier', 107),\n",
       " ('hawksbill', 100),\n",
       " ('grand_piano', 99),\n",
       " ('brain', 98),\n",
       " ('butterfly', 91),\n",
       " ('helicopter', 88),\n",
       " ('menorah', 87),\n",
       " ('kangaroo', 86),\n",
       " ('starfish', 86),\n",
       " ('trilobite', 86),\n",
       " ('ewer', 85),\n",
       " ('sunflower', 85),\n",
       " ('buddha', 85),\n",
       " ('scorpion', 84),\n",
       " ('revolver', 82),\n",
       " ('laptop', 81),\n",
       " ('ibis', 80),\n",
       " ('llama', 78),\n",
       " ('minaret', 76),\n",
       " ('electric_guitar', 75),\n",
       " ('umbrella', 75),\n",
       " ('crab', 73),\n",
       " ('crayfish', 70),\n",
       " ('cougar_face', 69),\n",
       " ('dragonfly', 68),\n",
       " ('flamingo', 67),\n",
       " ('dalmatian', 67),\n",
       " ('ferry', 67),\n",
       " ('lotus', 66),\n",
       " ('dolphin', 65),\n",
       " ('elephant', 64),\n",
       " ('stop_sign', 64),\n",
       " ('joshua_tree', 64),\n",
       " ('soccer_ball', 64),\n",
       " ('euphonium', 64),\n",
       " ('schooner', 63),\n",
       " ('chair', 62),\n",
       " ('lamp', 61),\n",
       " ('yin_yang', 60),\n",
       " ('rhino', 59),\n",
       " ('wheelchair', 59),\n",
       " ('stegosaurus', 59),\n",
       " ('cellphone', 59),\n",
       " ('pyramid', 57),\n",
       " ('sea_horse', 57),\n",
       " ('cup', 57),\n",
       " ('windsor_chair', 56),\n",
       " ('accordion', 55),\n",
       " ('nautilus', 55),\n",
       " ('hedgehog', 54),\n",
       " ('bass', 54),\n",
       " ('emu', 53),\n",
       " ('pizza', 53),\n",
       " ('dollar_bill', 52),\n",
       " ('crocodile_head', 51),\n",
       " ('gramophone', 51),\n",
       " ('camera', 50),\n",
       " ('crocodile', 50),\n",
       " ('tick', 49),\n",
       " ('rooster', 49),\n",
       " ('ceiling_fan', 47),\n",
       " ('pagoda', 47),\n",
       " ('barrel', 47),\n",
       " ('cougar_body', 47),\n",
       " ('beaver', 46),\n",
       " ('flamingo_head', 45),\n",
       " ('stapler', 45),\n",
       " ('pigeon', 45),\n",
       " ('brontosaurus', 43),\n",
       " ('cannon', 43),\n",
       " ('mandolin', 43),\n",
       " ('ant', 42),\n",
       " ('headphone', 42),\n",
       " ('anchor', 42),\n",
       " ('lobster', 41),\n",
       " ('mayfly', 40),\n",
       " ('saxophone', 40),\n",
       " ('scissors', 39),\n",
       " ('okapi', 39),\n",
       " ('wrench', 39),\n",
       " ('panda', 38),\n",
       " ('water_lilly', 37),\n",
       " ('snoopy', 35),\n",
       " ('strawberry', 35),\n",
       " ('octopus', 35),\n",
       " ('garfield', 34),\n",
       " ('platypus', 34),\n",
       " ('wild_cat', 34),\n",
       " ('gerenuk', 34),\n",
       " ('binocular', 33),\n",
       " ('metronome', 32),\n",
       " ('inline_skate', 31)]"
      ]
     },
     "execution_count": 10,
     "metadata": {},
     "output_type": "execute_result"
    }
   ],
   "source": [
    "get_image_counts_by_category('./data')"
   ]
  },
  {
   "cell_type": "code",
   "execution_count": 11,
   "metadata": {},
   "outputs": [
    {
     "data": {
      "text/plain": [
       "102"
      ]
     },
     "execution_count": 11,
     "metadata": {},
     "output_type": "execute_result"
    }
   ],
   "source": [
    "len(get_image_counts_by_category('./data'))"
   ]
  },
  {
   "cell_type": "markdown",
   "metadata": {},
   "source": [
    "The `BACKGROUND_Google` directory in the Caltech 101 dataset is typically used for negative samples (i.e., images that don't belong to any of the other 101 categories). For the purpose of your assignment, we'll focus solely on the 101 object categories."
   ]
  },
  {
   "cell_type": "markdown",
   "metadata": {},
   "source": [
    "### Total Image Count"
   ]
  },
  {
   "cell_type": "code",
   "execution_count": 12,
   "metadata": {},
   "outputs": [
    {
     "name": "stdout",
     "output_type": "stream",
     "text": [
      "Total number of images in training data :  8677\n"
     ]
    }
   ],
   "source": [
    "def get_total_image_count(data_directory):\n",
    "    total_count = sum(count for category, count in return_images_per_category(data_directory) \n",
    "                      if category != 'BACKGROUND_Google')\n",
    "    return total_count\n",
    "\n",
    "print(f\"Total number of images in training data: {get_total_image_count('./data')}\")"
   ]
  },
  {
   "cell_type": "code",
   "execution_count": 182,
   "metadata": {},
   "outputs": [],
   "source": [
    "def create_training_data(data_directory):\n",
    "    image_paths = [\n",
    "        image\n",
    "        for category, _ in return_images_per_category(data_directory)\n",
    "        if category != 'BACKGROUND_Google'\n",
    "        for image in get_images(category, data_directory)\n",
    "        if image.endswith('.jpg')\n",
    "    ]\n",
    "\n",
    "    num_images = len(image_paths)\n",
    "    X = np.empty((num_images, 200, 300, 3), dtype=np.uint8)\n",
    "    Y = []\n",
    "\n",
    "    print(f\"Preparing X and Y for dataset with {num_images} images...\")\n",
    "\n",
    "    for i, image_path in enumerate(image_paths):\n",
    "        category = image_path.split(os.sep)[-2]  # Extract category from the image path\n",
    "        print(f\"Processing image {i + 1} of {num_images} from category {category}...\")\n",
    "\n",
    "        X[i] = read_image(image_path)\n",
    "        Y.append(category)\n",
    "\n",
    "        print(f\"Images processed: {i + 1} of {num_images}\")\n",
    "\n",
    "    print(\"Datasets constructed\")\n",
    "    return X, Y"
   ]
  },
  {
   "cell_type": "code",
   "execution_count": 183,
   "metadata": {},
   "outputs": [
    {
     "name": "stdout",
     "output_type": "stream",
     "text": [
      "Preparing X and Y for dataset...\n",
      "Processing images of  airplanes\n",
      "Images processed :  801  of 8678\n",
      "Processing images of  Motorbikes\n",
      "Images processed :  1599  of 8678\n",
      "Processing images of  Faces\n",
      "Images processed :  2034  of 8678\n",
      "Processing images of  Faces_easy\n",
      "Images processed :  2469  of 8678\n",
      "Processing images of  watch\n",
      "Images processed :  2708  of 8678\n",
      "Processing images of  Leopards\n",
      "Images processed :  2908  of 8678\n",
      "Processing images of  bonsai\n",
      "Images processed :  3036  of 8678\n",
      "Processing images of  car_side\n",
      "Images processed :  3159  of 8678\n",
      "Processing images of  ketch\n",
      "Images processed :  3273  of 8678\n",
      "Processing images of  chandelier\n",
      "Images processed :  3380  of 8678\n",
      "Processing images of  hawksbill\n",
      "Images processed :  3480  of 8678\n",
      "Processing images of  grand_piano\n",
      "Images processed :  3579  of 8678\n",
      "Processing images of  brain\n",
      "Images processed :  3677  of 8678\n",
      "Processing images of  butterfly\n",
      "Images processed :  3768  of 8678\n",
      "Processing images of  helicopter\n",
      "Images processed :  3856  of 8678\n",
      "Processing images of  menorah\n",
      "Images processed :  3943  of 8678\n",
      "Processing images of  trilobite\n",
      "Images processed :  4029  of 8678\n",
      "Processing images of  kangaroo\n",
      "Images processed :  4115  of 8678\n",
      "Processing images of  starfish\n",
      "Images processed :  4201  of 8678\n",
      "Processing images of  buddha\n",
      "Images processed :  4286  of 8678\n",
      "Processing images of  ewer\n",
      "Images processed :  4371  of 8678\n",
      "Processing images of  sunflower\n",
      "Images processed :  4456  of 8678\n",
      "Processing images of  scorpion\n",
      "Images processed :  4540  of 8678\n",
      "Processing images of  revolver\n",
      "Images processed :  4622  of 8678\n",
      "Processing images of  laptop\n",
      "Images processed :  4703  of 8678\n",
      "Processing images of  ibis\n",
      "Images processed :  4783  of 8678\n",
      "Processing images of  llama\n",
      "Images processed :  4861  of 8678\n",
      "Processing images of  minaret\n",
      "Images processed :  4937  of 8678\n",
      "Processing images of  electric_guitar\n",
      "Images processed :  5012  of 8678\n",
      "Processing images of  umbrella\n",
      "Images processed :  5087  of 8678\n",
      "Processing images of  crab\n",
      "Images processed :  5160  of 8678\n",
      "Processing images of  crayfish\n",
      "Images processed :  5230  of 8678\n",
      "Processing images of  cougar_face\n",
      "Images processed :  5299  of 8678\n",
      "Processing images of  dragonfly\n",
      "Images processed :  5367  of 8678\n",
      "Processing images of  dalmatian\n",
      "Images processed :  5434  of 8678\n",
      "Processing images of  ferry\n",
      "Images processed :  5501  of 8678\n",
      "Processing images of  flamingo\n",
      "Images processed :  5568  of 8678\n",
      "Processing images of  lotus\n",
      "Images processed :  5634  of 8678\n",
      "Processing images of  dolphin\n",
      "Images processed :  5699  of 8678\n",
      "Processing images of  elephant\n",
      "Images processed :  5763  of 8678\n",
      "Processing images of  joshua_tree\n",
      "Images processed :  5827  of 8678\n",
      "Processing images of  soccer_ball\n",
      "Images processed :  5891  of 8678\n",
      "Processing images of  stop_sign\n",
      "Images processed :  5955  of 8678\n",
      "Processing images of  euphonium\n",
      "Images processed :  6019  of 8678\n",
      "Processing images of  schooner\n",
      "Images processed :  6082  of 8678\n",
      "Processing images of  chair\n",
      "Images processed :  6144  of 8678\n",
      "Processing images of  lamp\n",
      "Images processed :  6205  of 8678\n",
      "Processing images of  yin_yang\n",
      "Images processed :  6265  of 8678\n",
      "Processing images of  wheelchair\n",
      "Images processed :  6324  of 8678\n",
      "Processing images of  cellphone\n",
      "Images processed :  6383  of 8678\n",
      "Processing images of  stegosaurus\n",
      "Images processed :  6442  of 8678\n",
      "Processing images of  rhino\n",
      "Images processed :  6501  of 8678\n",
      "Processing images of  cup\n",
      "Images processed :  6558  of 8678\n",
      "Processing images of  sea_horse\n",
      "Images processed :  6615  of 8678\n",
      "Processing images of  pyramid\n",
      "Images processed :  6672  of 8678\n",
      "Processing images of  windsor_chair\n",
      "Images processed :  6728  of 8678\n",
      "Processing images of  nautilus\n",
      "Images processed :  6783  of 8678\n",
      "Processing images of  accordion\n",
      "Images processed :  6838  of 8678\n",
      "Processing images of  bass\n",
      "Images processed :  6892  of 8678\n",
      "Processing images of  hedgehog\n",
      "Images processed :  6946  of 8678\n",
      "Processing images of  pizza\n",
      "Images processed :  6999  of 8678\n",
      "Processing images of  emu\n",
      "Images processed :  7052  of 8678\n",
      "Processing images of  dollar_bill\n",
      "Images processed :  7104  of 8678\n",
      "Processing images of  gramophone\n",
      "Images processed :  7155  of 8678\n",
      "Processing images of  crocodile_head\n",
      "Images processed :  7206  of 8678\n",
      "Processing images of  camera\n",
      "Images processed :  7256  of 8678\n",
      "Processing images of  crocodile\n",
      "Images processed :  7306  of 8678\n",
      "Processing images of  tick\n",
      "Images processed :  7355  of 8678\n",
      "Processing images of  rooster\n",
      "Images processed :  7404  of 8678\n",
      "Processing images of  barrel\n",
      "Images processed :  7451  of 8678\n",
      "Processing images of  cougar_body\n",
      "Images processed :  7498  of 8678\n",
      "Processing images of  ceiling_fan\n",
      "Images processed :  7545  of 8678\n",
      "Processing images of  pagoda\n",
      "Images processed :  7592  of 8678\n",
      "Processing images of  beaver\n",
      "Images processed :  7638  of 8678\n",
      "Processing images of  stapler\n",
      "Images processed :  7683  of 8678\n",
      "Processing images of  pigeon\n",
      "Images processed :  7728  of 8678\n",
      "Processing images of  flamingo_head\n",
      "Images processed :  7773  of 8678\n",
      "Processing images of  brontosaurus\n",
      "Images processed :  7816  of 8678\n",
      "Processing images of  mandolin\n",
      "Images processed :  7859  of 8678\n",
      "Processing images of  cannon\n",
      "Images processed :  7902  of 8678\n",
      "Processing images of  headphone\n",
      "Images processed :  7944  of 8678\n",
      "Processing images of  anchor\n",
      "Images processed :  7986  of 8678\n",
      "Processing images of  ant\n",
      "Images processed :  8028  of 8678\n",
      "Processing images of  lobster\n",
      "Images processed :  8069  of 8678\n",
      "Processing images of  saxophone\n",
      "Images processed :  8109  of 8678\n",
      "Processing images of  mayfly\n",
      "Images processed :  8149  of 8678\n",
      "Processing images of  okapi\n",
      "Images processed :  8188  of 8678\n",
      "Processing images of  wrench\n",
      "Images processed :  8227  of 8678\n",
      "Processing images of  scissors\n",
      "Images processed :  8266  of 8678\n",
      "Processing images of  panda\n",
      "Images processed :  8304  of 8678\n",
      "Processing images of  water_lilly\n",
      "Images processed :  8341  of 8678\n",
      "Processing images of  strawberry\n",
      "Images processed :  8376  of 8678\n",
      "Processing images of  octopus\n",
      "Images processed :  8411  of 8678\n",
      "Processing images of  snoopy\n",
      "Images processed :  8446  of 8678\n",
      "Processing images of  wild_cat\n",
      "Images processed :  8480  of 8678\n",
      "Processing images of  gerenuk\n",
      "Images processed :  8514  of 8678\n",
      "Processing images of  platypus\n",
      "Images processed :  8548  of 8678\n",
      "Processing images of  garfield\n",
      "Images processed :  8582  of 8678\n",
      "Processing images of  binocular\n",
      "Images processed :  8615  of 8678\n",
      "Processing images of  metronome\n",
      "Images processed :  8647  of 8678\n",
      "Processing images of  inline_skate\n",
      "Images processed :  8678  of 8678\n",
      "Datasets constructed\n"
     ]
    }
   ],
   "source": [
    "X, Y = create_training_data('./data')"
   ]
  },
  {
   "cell_type": "markdown",
   "metadata": {},
   "source": [
    "**Verifying Dataset Integrity**"
   ]
  },
  {
   "cell_type": "code",
   "execution_count": 15,
   "metadata": {},
   "outputs": [
    {
     "data": {
      "text/plain": [
       "(8677, 200, 300, 3)"
      ]
     },
     "execution_count": 15,
     "metadata": {},
     "output_type": "execute_result"
    }
   ],
   "source": [
    "X.shape"
   ]
  },
  {
   "cell_type": "markdown",
   "metadata": {},
   "source": [
    "Random sample check to verify"
   ]
  },
  {
   "cell_type": "code",
   "execution_count": 16,
   "metadata": {},
   "outputs": [
    {
     "data": {
      "text/plain": [
       "'Faces_easy'"
      ]
     },
     "execution_count": 16,
     "metadata": {},
     "output_type": "execute_result"
    }
   ],
   "source": [
    "Y[2323]"
   ]
  },
  {
   "cell_type": "code",
   "execution_count": 17,
   "metadata": {},
   "outputs": [
    {
     "data": {
      "text/plain": [
       "<matplotlib.image.AxesImage at 0x7fd207f27c88>"
      ]
     },
     "execution_count": 17,
     "metadata": {},
     "output_type": "execute_result"
    },
    {
     "data": {
      "image/png": "[encoded data removed]",
      "text/plain": [
       "<matplotlib.figure.Figure at 0x7fd2085a6e80>"
      ]
     },
     "metadata": {},
     "output_type": "display_data"
    }
   ],
   "source": [
    "imshow(X[2323])"
   ]
  },
  {
   "cell_type": "code",
   "execution_count": 18,
   "metadata": {},
   "outputs": [
    {
     "data": {
      "text/plain": [
       "'Motorbikes'"
      ]
     },
     "execution_count": 18,
     "metadata": {},
     "output_type": "execute_result"
    }
   ],
   "source": [
    "Y[1001]"
   ]
  },
  {
   "cell_type": "code",
   "execution_count": 19,
   "metadata": {},
   "outputs": [
    {
     "data": {
      "text/plain": [
       "<matplotlib.image.AxesImage at 0x7fd207ece9e8>"
      ]
     },
     "execution_count": 19,
     "metadata": {},
     "output_type": "execute_result"
    },
    {
     "data": {
      "image/png": "[encoded data removed]",
      "text/plain": [
       "<matplotlib.figure.Figure at 0x7fd207f37a58>"
      ]
     },
     "metadata": {},
     "output_type": "display_data"
    }
   ],
   "source": [
    "imshow(X[1001])"
   ]
  },
  {
   "cell_type": "markdown",
   "metadata": {},
   "source": [
    "### Convert categorical labels to one-hot encoded format:"
   ]
  },
  {
   "cell_type": "code",
   "execution_count": 184,
   "metadata": {},
   "outputs": [
    {
     "data": {
      "text/plain": [
       "array([ 5,  5,  5, ..., 52, 52, 52])"
      ]
     },
     "execution_count": 184,
     "metadata": {},
     "output_type": "execute_result"
    }
   ],
   "source": [
    "label_encoder = LabelEncoder()\n",
    "Y_integer_encoded = label_encoder.fit_transform(Y)\n",
    "Y_integer_encoded"
   ]
  },
  {
   "cell_type": "code",
   "execution_count": 187,
   "metadata": {},
   "outputs": [],
   "source": [
    "np.save('label_encoder.npy', label_encoder.classes_)"
   ]
  },
  {
   "cell_type": "code",
   "execution_count": 21,
   "metadata": {},
   "outputs": [
    {
     "data": {
      "text/plain": [
       "8677"
      ]
     },
     "execution_count": 21,
     "metadata": {},
     "output_type": "execute_result"
    }
   ],
   "source": [
    "len(Y_integer_encoded)"
   ]
  },
  {
   "cell_type": "code",
   "execution_count": 22,
   "metadata": {},
   "outputs": [
    {
     "data": {
      "text/plain": [
       "8677"
      ]
     },
     "execution_count": 22,
     "metadata": {},
     "output_type": "execute_result"
    }
   ],
   "source": [
    "len(Y)"
   ]
  },
  {
   "cell_type": "code",
   "execution_count": 23,
   "metadata": {},
   "outputs": [
    {
     "data": {
      "text/plain": [
       "8677"
      ]
     },
     "execution_count": 23,
     "metadata": {},
     "output_type": "execute_result"
    }
   ],
   "source": [
    "len(X)"
   ]
  },
  {
   "cell_type": "code",
   "execution_count": 26,
   "metadata": {},
   "outputs": [
    {
     "data": {
      "text/plain": [
       "array([[ 0.,  0.,  0., ...,  0.,  0.,  0.],\n",
       "       [ 0.,  0.,  0., ...,  0.,  0.,  0.],\n",
       "       [ 0.,  0.,  0., ...,  0.,  0.,  0.],\n",
       "       ..., \n",
       "       [ 0.,  0.,  0., ...,  0.,  0.,  0.],\n",
       "       [ 0.,  0.,  0., ...,  0.,  0.,  0.],\n",
       "       [ 0.,  0.,  0., ...,  0.,  0.,  0.]])"
      ]
     },
     "execution_count": 26,
     "metadata": {},
     "output_type": "execute_result"
    }
   ],
   "source": [
    "Y_one_hot = to_categorical(Y_integer_encoded)\n",
    "Y_one_hot"
   ]
  },
  {
   "cell_type": "code",
   "execution_count": 25,
   "metadata": {},
   "outputs": [
    {
     "data": {
      "text/plain": [
       "array([ 0.,  0.,  0.,  0.,  0.,  1.,  0.,  0.,  0.,  0.,  0.,  0.,  0.,\n",
       "        0.,  0.,  0.,  0.,  0.,  0.,  0.,  0.,  0.,  0.,  0.,  0.,  0.,\n",
       "        0.,  0.,  0.,  0.,  0.,  0.,  0.,  0.,  0.,  0.,  0.,  0.,  0.,\n",
       "        0.,  0.,  0.,  0.,  0.,  0.,  0.,  0.,  0.,  0.,  0.,  0.,  0.,\n",
       "        0.,  0.,  0.,  0.,  0.,  0.,  0.,  0.,  0.,  0.,  0.,  0.,  0.,\n",
       "        0.,  0.,  0.,  0.,  0.,  0.,  0.,  0.,  0.,  0.,  0.,  0.,  0.,\n",
       "        0.,  0.,  0.,  0.,  0.,  0.,  0.,  0.,  0.,  0.,  0.,  0.,  0.,\n",
       "        0.,  0.,  0.,  0.,  0.,  0.,  0.,  0.,  0.,  0.])"
      ]
     },
     "execution_count": 25,
     "metadata": {},
     "output_type": "execute_result"
    }
   ],
   "source": [
    "Y_one_hot[0]"
   ]
  },
  {
   "cell_type": "code",
   "execution_count": 26,
   "metadata": {},
   "outputs": [
    {
     "data": {
      "text/plain": [
       "101"
      ]
     },
     "execution_count": 26,
     "metadata": {},
     "output_type": "execute_result"
    }
   ],
   "source": [
    "len(Y_one_hot[0])"
   ]
  },
  {
   "cell_type": "markdown",
   "metadata": {},
   "source": [
    "### Normalizing the images"
   ]
  },
  {
   "cell_type": "code",
   "execution_count": 27,
   "metadata": {},
   "outputs": [],
   "source": [
    "X_normalized = X.astype(np.float64) / 255"
   ]
  },
  {
   "cell_type": "code",
   "execution_count": 28,
   "metadata": {},
   "outputs": [
    {
     "data": {
      "text/plain": [
       "array([[[126, 117, 114],\n",
       "        [129, 120, 117],\n",
       "        [130, 121, 118],\n",
       "        ..., \n",
       "        [255, 255, 255],\n",
       "        [255, 255, 255],\n",
       "        [255, 255, 255]],\n",
       "\n",
       "       [[126, 117, 114],\n",
       "        [129, 120, 117],\n",
       "        [130, 121, 118],\n",
       "        ..., \n",
       "        [255, 255, 255],\n",
       "        [255, 255, 255],\n",
       "        [255, 255, 255]],\n",
       "\n",
       "       [[127, 118, 115],\n",
       "        [130, 121, 118],\n",
       "        [131, 122, 119],\n",
       "        ..., \n",
       "        [255, 255, 255],\n",
       "        [255, 255, 255],\n",
       "        [255, 255, 255]],\n",
       "\n",
       "       ..., \n",
       "       [[ 81, 113, 130],\n",
       "        [ 80, 112, 129],\n",
       "        [ 80, 110, 128],\n",
       "        ..., \n",
       "        [255, 255, 255],\n",
       "        [255, 255, 255],\n",
       "        [255, 255, 255]],\n",
       "\n",
       "       [[ 84, 117, 133],\n",
       "        [ 79, 113, 128],\n",
       "        [ 79, 110, 126],\n",
       "        ..., \n",
       "        [255, 255, 255],\n",
       "        [255, 255, 255],\n",
       "        [255, 255, 255]],\n",
       "\n",
       "       [[ 87, 122, 136],\n",
       "        [ 79, 115, 128],\n",
       "        [ 78, 111, 126],\n",
       "        ..., \n",
       "        [255, 255, 255],\n",
       "        [255, 255, 255],\n",
       "        [255, 255, 255]]], dtype=uint8)"
      ]
     },
     "execution_count": 28,
     "metadata": {},
     "output_type": "execute_result"
    }
   ],
   "source": [
    "X[0]"
   ]
  },
  {
   "cell_type": "code",
   "execution_count": 29,
   "metadata": {},
   "outputs": [
    {
     "data": {
      "text/plain": [
       "array([[[ 0.49411765,  0.45882353,  0.44705882],\n",
       "        [ 0.50588235,  0.47058824,  0.45882353],\n",
       "        [ 0.50980392,  0.4745098 ,  0.4627451 ],\n",
       "        ..., \n",
       "        [ 1.        ,  1.        ,  1.        ],\n",
       "        [ 1.        ,  1.        ,  1.        ],\n",
       "        [ 1.        ,  1.        ,  1.        ]],\n",
       "\n",
       "       [[ 0.49411765,  0.45882353,  0.44705882],\n",
       "        [ 0.50588235,  0.47058824,  0.45882353],\n",
       "        [ 0.50980392,  0.4745098 ,  0.4627451 ],\n",
       "        ..., \n",
       "        [ 1.        ,  1.        ,  1.        ],\n",
       "        [ 1.        ,  1.        ,  1.        ],\n",
       "        [ 1.        ,  1.        ,  1.        ]],\n",
       "\n",
       "       [[ 0.49803922,  0.4627451 ,  0.45098039],\n",
       "        [ 0.50980392,  0.4745098 ,  0.4627451 ],\n",
       "        [ 0.51372549,  0.47843137,  0.46666667],\n",
       "        ..., \n",
       "        [ 1.        ,  1.        ,  1.        ],\n",
       "        [ 1.        ,  1.        ,  1.        ],\n",
       "        [ 1.        ,  1.        ,  1.        ]],\n",
       "\n",
       "       ..., \n",
       "       [[ 0.31764706,  0.44313725,  0.50980392],\n",
       "        [ 0.31372549,  0.43921569,  0.50588235],\n",
       "        [ 0.31372549,  0.43137255,  0.50196078],\n",
       "        ..., \n",
       "        [ 1.        ,  1.        ,  1.        ],\n",
       "        [ 1.        ,  1.        ,  1.        ],\n",
       "        [ 1.        ,  1.        ,  1.        ]],\n",
       "\n",
       "       [[ 0.32941176,  0.45882353,  0.52156863],\n",
       "        [ 0.30980392,  0.44313725,  0.50196078],\n",
       "        [ 0.30980392,  0.43137255,  0.49411765],\n",
       "        ..., \n",
       "        [ 1.        ,  1.        ,  1.        ],\n",
       "        [ 1.        ,  1.        ,  1.        ],\n",
       "        [ 1.        ,  1.        ,  1.        ]],\n",
       "\n",
       "       [[ 0.34117647,  0.47843137,  0.53333333],\n",
       "        [ 0.30980392,  0.45098039,  0.50196078],\n",
       "        [ 0.30588235,  0.43529412,  0.49411765],\n",
       "        ..., \n",
       "        [ 1.        ,  1.        ,  1.        ],\n",
       "        [ 1.        ,  1.        ,  1.        ],\n",
       "        [ 1.        ,  1.        ,  1.        ]]])"
      ]
     },
     "execution_count": 29,
     "metadata": {},
     "output_type": "execute_result"
    }
   ],
   "source": [
    "X_normalized[0]"
   ]
  },
  {
   "cell_type": "code",
   "execution_count": 30,
   "metadata": {},
   "outputs": [],
   "source": [
    "# Since X is no longer needed, let's deallocate the memory it's using\n",
    "del X"
   ]
  },
  {
   "cell_type": "markdown",
   "metadata": {},
   "source": [
    "### Splitting the dataset"
   ]
  },
  {
   "cell_type": "code",
   "execution_count": 31,
   "metadata": {},
   "outputs": [],
   "source": [
    "X_train, X_validation, Y_train, Y_validation = train_test_split(X_normalized, Y_one_hot, test_size=0.25, random_state=42)"
   ]
  },
  {
   "cell_type": "code",
   "execution_count": 32,
   "metadata": {},
   "outputs": [
    {
     "data": {
      "text/plain": [
       "(6507, 200, 300, 3)"
      ]
     },
     "execution_count": 32,
     "metadata": {},
     "output_type": "execute_result"
    }
   ],
   "source": [
    "X_train.shape"
   ]
  },
  {
   "cell_type": "code",
   "execution_count": 33,
   "metadata": {},
   "outputs": [
    {
     "data": {
      "text/plain": [
       "(6507, 101)"
      ]
     },
     "execution_count": 33,
     "metadata": {},
     "output_type": "execute_result"
    }
   ],
   "source": [
    "Y_train.shape"
   ]
  },
  {
   "cell_type": "markdown",
   "metadata": {},
   "source": [
    "# Model Architectures"
   ]
  },
  {
   "cell_type": "markdown",
   "metadata": {},
   "source": [
    "## 1. Custom CNN Architecture"
   ]
  },
  {
   "cell_type": "markdown",
   "metadata": {},
   "source": [
    "**Defining Model Architecture**"
   ]
  },
  {
   "cell_type": "code",
   "execution_count": 103,
   "metadata": {},
   "outputs": [
    {
     "name": "stdout",
     "output_type": "stream",
     "text": [
      "_________________________________________________________________\n",
      "Layer (type)                 Output Shape              Param #   \n",
      "=================================================================\n",
      "conv2d_5 (Conv2D)            (None, 198, 298, 16)      448       \n",
      "_________________________________________________________________\n",
      "conv2d_6 (Conv2D)            (None, 196, 296, 32)      4640      \n",
      "_________________________________________________________________\n",
      "max_pooling2d_3 (MaxPooling2 (None, 98, 148, 32)       0         \n",
      "_________________________________________________________________\n",
      "conv2d_7 (Conv2D)            (None, 96, 146, 64)       18496     \n",
      "_________________________________________________________________\n",
      "conv2d_8 (Conv2D)            (None, 94, 144, 128)      73856     \n",
      "_________________________________________________________________\n",
      "max_pooling2d_4 (MaxPooling2 (None, 47, 72, 128)       0         \n",
      "_________________________________________________________________\n",
      "flatten_2 (Flatten)          (None, 433152)            0         \n",
      "_________________________________________________________________\n",
      "dense_3 (Dense)              (None, 101)               43748453  \n",
      "=================================================================\n",
      "Total params: 43,845,893\n",
      "Trainable params: 43,845,893\n",
      "Non-trainable params: 0\n",
      "_________________________________________________________________\n"
     ]
    }
   ],
   "source": [
    "def create_cnn():\n",
    "    model = Sequential([\n",
    "        Conv2D(16, (3,3), activation='relu', input_shape=(200,300,3)),\n",
    "        Conv2D(32, (3,3), activation='relu'),\n",
    "        MaxPooling2D(pool_size=2, strides=2),\n",
    "        Conv2D(64, (3,3), activation='relu'),\n",
    "        Conv2D(128, (3,3), activation='relu'),\n",
    "        MaxPooling2D(pool_size=2, strides=2),\n",
    "        Flatten(),\n",
    "        Dense(101, activation='softmax')\n",
    "    ])\n",
    "    return model\n",
    "\n",
    "model_cnn = create_cnn()\n",
    "model_cnn.summary()\n"
   ]
  },
  {
   "cell_type": "markdown",
   "metadata": {},
   "source": [
    "**Defining Loss and Optimizer**"
   ]
  },
  {
   "cell_type": "code",
   "execution_count": 104,
   "metadata": {},
   "outputs": [],
   "source": [
    "model_cnn.compile(loss='categorical_crossentropy',optimizer='adam', metrics=['accuracy'])"
   ]
  },
  {
   "cell_type": "code",
   "execution_count": 41,
   "metadata": {},
   "outputs": [
    {
     "name": "stdout",
     "output_type": "stream",
     "text": [
      "Train on 6507 samples, validate on 2170 samples\n",
      "Epoch 1/30\n",
      "6507/6507 [==============================] - 88s - loss: 3.2295 - acc: 0.3418 - val_loss: 2.1935 - val_acc: 0.5171\n",
      "Epoch 2/30\n",
      "6507/6507 [==============================] - 87s - loss: 0.7872 - acc: 0.8102 - val_loss: 2.1884 - val_acc: 0.5820\n",
      "Epoch 3/30\n",
      "6507/6507 [==============================] - 87s - loss: 0.0550 - acc: 0.9885 - val_loss: 3.1001 - val_acc: 0.5848\n",
      "Epoch 4/30\n",
      "6507/6507 [==============================] - 109s - loss: 0.0186 - acc: 0.9966 - val_loss: 2.8251 - val_acc: 0.5968\n",
      "Epoch 5/30\n",
      "6507/6507 [==============================] - 86s - loss: 0.0086 - acc: 0.9995 - val_loss: 3.1758 - val_acc: 0.6023\n",
      "Epoch 6/30\n",
      "6507/6507 [==============================] - 85s - loss: 0.0104 - acc: 0.9983 - val_loss: 3.3237 - val_acc: 0.5714\n",
      "Epoch 7/30\n",
      "6507/6507 [==============================] - 85s - loss: 0.0170 - acc: 0.9963 - val_loss: 3.7011 - val_acc: 0.5548\n",
      "Epoch 00006: early stopping\n"
     ]
    },
    {
     "data": {
      "text/plain": [
       "<keras.callbacks.History at 0x7f83cfa9fd30>"
      ]
     },
     "execution_count": 41,
     "metadata": {},
     "output_type": "execute_result"
    }
   ],
   "source": [
    "def train_model(model, X_train, Y_train, X_validation, Y_validation):\n",
    "    callbacks_list = [\n",
    "        ModelCheckpoint(filepath='cnn_model.h5', monitor='val_acc', save_best_only=True),\n",
    "        EarlyStopping(monitor='val_loss', patience=4, verbose=1, mode='auto')\n",
    "    ]\n",
    "    history = model.fit(\n",
    "        x=X_train, \n",
    "        y=Y_train, \n",
    "        batch_size=64, \n",
    "        epochs=30, \n",
    "        verbose=1, \n",
    "        validation_data=(X_validation, Y_validation), \n",
    "        callbacks=callbacks_list\n",
    "    )\n",
    "    return history\n",
    "\n",
    "history = train_model(model_cnn, X_train, Y_train, X_validation, Y_validation)"
   ]
  },
  {
   "cell_type": "markdown",
   "metadata": {},
   "source": [
    "The observation above indicates that overfitting has occurred. To mitigate overfitting, we could explore the following techniques:\n",
    "\n",
    "* Dropout\n",
    "* L2 regularization"
   ]
  },
  {
   "cell_type": "markdown",
   "metadata": {},
   "source": [
    "## 2. CNN Model with Dropout"
   ]
  },
  {
   "cell_type": "code",
   "execution_count": 37,
   "metadata": {},
   "outputs": [
    {
     "name": "stdout",
     "output_type": "stream",
     "text": [
      "_________________________________________________________________\n",
      "Layer (type)                 Output Shape              Param #   \n",
      "=================================================================\n",
      "conv2d_1 (Conv2D)            (None, 198, 298, 32)      896       \n",
      "_________________________________________________________________\n",
      "conv2d_2 (Conv2D)            (None, 196, 296, 32)      9248      \n",
      "_________________________________________________________________\n",
      "max_pooling2d_1 (MaxPooling2 (None, 98, 148, 32)       0         \n",
      "_________________________________________________________________\n",
      "conv2d_3 (Conv2D)            (None, 96, 146, 64)       18496     \n",
      "_________________________________________________________________\n",
      "conv2d_4 (Conv2D)            (None, 94, 144, 64)       36928     \n",
      "_________________________________________________________________\n",
      "max_pooling2d_2 (MaxPooling2 (None, 47, 72, 64)        0         \n",
      "_________________________________________________________________\n",
      "flatten_1 (Flatten)          (None, 216576)            0         \n",
      "_________________________________________________________________\n",
      "dense_1 (Dense)              (None, 512)               110887424 \n",
      "_________________________________________________________________\n",
      "dropout_1 (Dropout)          (None, 512)               0         \n",
      "_________________________________________________________________\n",
      "dense_2 (Dense)              (None, 101)               51813     \n",
      "=================================================================\n",
      "Total params: 111,004,805\n",
      "Trainable params: 111,004,805\n",
      "Non-trainable params: 0\n",
      "_________________________________________________________________\n",
      "Train on 6507 samples, validate on 2170 samples\n",
      "Epoch 1/10\n",
      "6507/6507 [==============================] - 106s - loss: 4.0300 - acc: 0.1778 - val_loss: 3.7339 - val_acc: 0.2622\n",
      "Epoch 2/10\n",
      "6507/6507 [==============================] - 99s - loss: 3.4675 - acc: 0.2783 - val_loss: 3.0735 - val_acc: 0.3567\n",
      "Epoch 3/10\n",
      "6507/6507 [==============================] - 99s - loss: 3.0919 - acc: 0.3406 - val_loss: 2.7875 - val_acc: 0.4051\n",
      "Epoch 4/10\n",
      "6507/6507 [==============================] - 99s - loss: 2.6679 - acc: 0.4154 - val_loss: 2.5430 - val_acc: 0.4410\n",
      "Epoch 5/10\n",
      "6507/6507 [==============================] - 99s - loss: 2.1795 - acc: 0.4955 - val_loss: 2.2610 - val_acc: 0.5009\n",
      "Epoch 6/10\n",
      "6507/6507 [==============================] - 99s - loss: 1.5803 - acc: 0.6173 - val_loss: 2.1526 - val_acc: 0.5120\n",
      "Epoch 7/10\n",
      "6507/6507 [==============================] - 99s - loss: 0.9767 - acc: 0.7515 - val_loss: 2.2493 - val_acc: 0.5198\n",
      "Epoch 8/10\n",
      "6507/6507 [==============================] - 99s - loss: 0.5546 - acc: 0.8551 - val_loss: 2.2918 - val_acc: 0.5217\n",
      "Epoch 9/10\n",
      "6507/6507 [==============================] - 98s - loss: 0.3581 - acc: 0.8966 - val_loss: 2.4754 - val_acc: 0.5300\n",
      "Epoch 10/10\n",
      "6507/6507 [==============================] - 98s - loss: 0.2363 - acc: 0.9382 - val_loss: 2.4870 - val_acc: 0.5585\n"
     ]
    },
    {
     "data": {
      "text/plain": [
       "<keras.callbacks.History at 0x7fd1a1156240>"
      ]
     },
     "execution_count": 37,
     "metadata": {},
     "output_type": "execute_result"
    }
   ],
   "source": [
    "def create_model():\n",
    "    model = Sequential([\n",
    "        Conv2D(32, (3, 3), activation='relu', input_shape=(200, 300, 3)),\n",
    "        Conv2D(32, (3, 3), activation='relu'),\n",
    "        MaxPooling2D(pool_size=2, strides=2),\n",
    "        Conv2D(64, (3, 3), activation='relu'),\n",
    "        Conv2D(64, (3, 3), activation='relu'),\n",
    "        MaxPooling2D(pool_size=2, strides=2),\n",
    "        Flatten(),\n",
    "        Dense(512, activation='relu'),\n",
    "        Dropout(0.5),\n",
    "        Dense(101, activation='softmax')\n",
    "    ])\n",
    "    return model\n",
    "\n",
    "def compile_model(model):\n",
    "    model.compile(loss='categorical_crossentropy', optimizer='sgd', metrics=['accuracy'])\n",
    "\n",
    "def train_model(model, X_train, Y_train, X_validation, Y_validation):\n",
    "    callbacks_list = [\n",
    "        ModelCheckpoint(filepath='cnn_model_dropout_two.h5', monitor='val_acc', save_best_only=True),\n",
    "        EarlyStopping(monitor='val_loss', patience=4, verbose=1, mode='auto')\n",
    "    ]\n",
    "    history = model.fit(\n",
    "        x=X_train,\n",
    "        y=Y_train,\n",
    "        batch_size=16,\n",
    "        epochs=10,\n",
    "        verbose=1,\n",
    "        validation_data=(X_validation, Y_validation),\n",
    "        callbacks=callbacks_list\n",
    "    )\n",
    "    return history\n",
    "\n",
    "model_cnn_dropout = create_model()\n",
    "compile_model(model_cnn_dropout)\n",
    "history = train_model(model_cnn_dropout, X_train, Y_train, X_validation, Y_validation)\n",
    "model_cnn_dropout.summary()\n"
   ]
  },
  {
   "cell_type": "markdown",
   "metadata": {},
   "source": [
    "## 3. Transfer learning using InceptionV3"
   ]
  },
  {
   "cell_type": "code",
   "execution_count": 14,
   "metadata": {},
   "outputs": [],
   "source": [
    "def build_transfer_learning_model():\n",
    "    base_model = InceptionV3(weights='imagenet', include_top=False)\n",
    "    \n",
    "    x = base_model.output\n",
    "    x = GlobalAveragePooling2D()(x)\n",
    "    x = Dense(1024, activation='relu')(x)\n",
    "    x = Dropout(0.4)(x)\n",
    "    x = Dense(512, activation='relu')(x)\n",
    "    x = Dropout(0.4)(x)\n",
    "    predictions = Dense(101, activation='softmax')(x)\n",
    "    \n",
    "    model = Model(inputs=base_model.input, outputs=predictions)\n",
    "    \n",
    "    return model\n",
    "\n",
    "def freeze_layers(model, trainable_from_layer):\n",
    "    for layer in model.layers[:trainable_from_layer]:\n",
    "        layer.trainable = False\n",
    "    for layer in model.layers[trainable_from_layer:]:\n",
    "        layer.trainable = True"
   ]
  },
  {
   "cell_type": "code",
   "execution_count": 15,
   "metadata": {},
   "outputs": [
    {
     "name": "stdout",
     "output_type": "stream",
     "text": [
      "____________________________________________________________________________________________________\n",
      "Layer (type)                     Output Shape          Param #     Connected to                     \n",
      "====================================================================================================\n",
      "input_4 (InputLayer)             (None, None, None, 3) 0                                            \n",
      "____________________________________________________________________________________________________\n",
      "conv2d_283 (Conv2D)              (None, None, None, 32 864         input_4[0][0]                    \n",
      "____________________________________________________________________________________________________\n",
      "batch_normalization_283 (BatchNo (None, None, None, 32 96          conv2d_283[0][0]                 \n",
      "____________________________________________________________________________________________________\n",
      "activation_283 (Activation)      (None, None, None, 32 0           batch_normalization_283[0][0]    \n",
      "____________________________________________________________________________________________________\n",
      "conv2d_284 (Conv2D)              (None, None, None, 32 9216        activation_283[0][0]             \n",
      "____________________________________________________________________________________________________\n",
      "batch_normalization_284 (BatchNo (None, None, None, 32 96          conv2d_284[0][0]                 \n",
      "____________________________________________________________________________________________________\n",
      "activation_284 (Activation)      (None, None, None, 32 0           batch_normalization_284[0][0]    \n",
      "____________________________________________________________________________________________________\n",
      "conv2d_285 (Conv2D)              (None, None, None, 64 18432       activation_284[0][0]             \n",
      "____________________________________________________________________________________________________\n",
      "batch_normalization_285 (BatchNo (None, None, None, 64 192         conv2d_285[0][0]                 \n",
      "____________________________________________________________________________________________________\n",
      "activation_285 (Activation)      (None, None, None, 64 0           batch_normalization_285[0][0]    \n",
      "____________________________________________________________________________________________________\n",
      "max_pooling2d_14 (MaxPooling2D)  (None, None, None, 64 0           activation_285[0][0]             \n",
      "____________________________________________________________________________________________________\n",
      "conv2d_286 (Conv2D)              (None, None, None, 80 5120        max_pooling2d_14[0][0]           \n",
      "____________________________________________________________________________________________________\n",
      "batch_normalization_286 (BatchNo (None, None, None, 80 240         conv2d_286[0][0]                 \n",
      "____________________________________________________________________________________________________\n",
      "activation_286 (Activation)      (None, None, None, 80 0           batch_normalization_286[0][0]    \n",
      "____________________________________________________________________________________________________\n",
      "conv2d_287 (Conv2D)              (None, None, None, 19 138240      activation_286[0][0]             \n",
      "____________________________________________________________________________________________________\n",
      "batch_normalization_287 (BatchNo (None, None, None, 19 576         conv2d_287[0][0]                 \n",
      "____________________________________________________________________________________________________\n",
      "activation_287 (Activation)      (None, None, None, 19 0           batch_normalization_287[0][0]    \n",
      "____________________________________________________________________________________________________\n",
      "max_pooling2d_15 (MaxPooling2D)  (None, None, None, 19 0           activation_287[0][0]             \n",
      "____________________________________________________________________________________________________\n",
      "conv2d_291 (Conv2D)              (None, None, None, 64 12288       max_pooling2d_15[0][0]           \n",
      "____________________________________________________________________________________________________\n",
      "batch_normalization_291 (BatchNo (None, None, None, 64 192         conv2d_291[0][0]                 \n",
      "____________________________________________________________________________________________________\n",
      "activation_291 (Activation)      (None, None, None, 64 0           batch_normalization_291[0][0]    \n",
      "____________________________________________________________________________________________________\n",
      "conv2d_289 (Conv2D)              (None, None, None, 48 9216        max_pooling2d_15[0][0]           \n",
      "____________________________________________________________________________________________________\n",
      "conv2d_292 (Conv2D)              (None, None, None, 96 55296       activation_291[0][0]             \n",
      "____________________________________________________________________________________________________\n",
      "batch_normalization_289 (BatchNo (None, None, None, 48 144         conv2d_289[0][0]                 \n",
      "____________________________________________________________________________________________________\n",
      "batch_normalization_292 (BatchNo (None, None, None, 96 288         conv2d_292[0][0]                 \n",
      "____________________________________________________________________________________________________\n",
      "activation_289 (Activation)      (None, None, None, 48 0           batch_normalization_289[0][0]    \n",
      "____________________________________________________________________________________________________\n",
      "activation_292 (Activation)      (None, None, None, 96 0           batch_normalization_292[0][0]    \n",
      "____________________________________________________________________________________________________\n",
      "average_pooling2d_28 (AveragePoo (None, None, None, 19 0           max_pooling2d_15[0][0]           \n",
      "____________________________________________________________________________________________________\n",
      "conv2d_288 (Conv2D)              (None, None, None, 64 12288       max_pooling2d_15[0][0]           \n",
      "____________________________________________________________________________________________________\n",
      "conv2d_290 (Conv2D)              (None, None, None, 64 76800       activation_289[0][0]             \n",
      "____________________________________________________________________________________________________\n",
      "conv2d_293 (Conv2D)              (None, None, None, 96 82944       activation_292[0][0]             \n",
      "____________________________________________________________________________________________________\n",
      "conv2d_294 (Conv2D)              (None, None, None, 32 6144        average_pooling2d_28[0][0]       \n",
      "____________________________________________________________________________________________________\n",
      "batch_normalization_288 (BatchNo (None, None, None, 64 192         conv2d_288[0][0]                 \n",
      "____________________________________________________________________________________________________\n",
      "batch_normalization_290 (BatchNo (None, None, None, 64 192         conv2d_290[0][0]                 \n",
      "____________________________________________________________________________________________________\n",
      "batch_normalization_293 (BatchNo (None, None, None, 96 288         conv2d_293[0][0]                 \n",
      "____________________________________________________________________________________________________\n",
      "batch_normalization_294 (BatchNo (None, None, None, 32 96          conv2d_294[0][0]                 \n",
      "____________________________________________________________________________________________________\n",
      "activation_288 (Activation)      (None, None, None, 64 0           batch_normalization_288[0][0]    \n",
      "____________________________________________________________________________________________________\n",
      "activation_290 (Activation)      (None, None, None, 64 0           batch_normalization_290[0][0]    \n",
      "____________________________________________________________________________________________________\n",
      "activation_293 (Activation)      (None, None, None, 96 0           batch_normalization_293[0][0]    \n",
      "____________________________________________________________________________________________________\n",
      "activation_294 (Activation)      (None, None, None, 32 0           batch_normalization_294[0][0]    \n",
      "____________________________________________________________________________________________________\n",
      "mixed0 (Concatenate)             (None, None, None, 25 0           activation_288[0][0]             \n",
      "                                                                   activation_290[0][0]             \n",
      "                                                                   activation_293[0][0]             \n",
      "                                                                   activation_294[0][0]             \n",
      "____________________________________________________________________________________________________\n",
      "conv2d_298 (Conv2D)              (None, None, None, 64 16384       mixed0[0][0]                     \n",
      "____________________________________________________________________________________________________\n",
      "batch_normalization_298 (BatchNo (None, None, None, 64 192         conv2d_298[0][0]                 \n",
      "____________________________________________________________________________________________________\n",
      "activation_298 (Activation)      (None, None, None, 64 0           batch_normalization_298[0][0]    \n",
      "____________________________________________________________________________________________________\n",
      "conv2d_296 (Conv2D)              (None, None, None, 48 12288       mixed0[0][0]                     \n",
      "____________________________________________________________________________________________________\n",
      "conv2d_299 (Conv2D)              (None, None, None, 96 55296       activation_298[0][0]             \n",
      "____________________________________________________________________________________________________\n",
      "batch_normalization_296 (BatchNo (None, None, None, 48 144         conv2d_296[0][0]                 \n",
      "____________________________________________________________________________________________________\n",
      "batch_normalization_299 (BatchNo (None, None, None, 96 288         conv2d_299[0][0]                 \n",
      "____________________________________________________________________________________________________\n",
      "activation_296 (Activation)      (None, None, None, 48 0           batch_normalization_296[0][0]    \n",
      "____________________________________________________________________________________________________\n",
      "activation_299 (Activation)      (None, None, None, 96 0           batch_normalization_299[0][0]    \n",
      "____________________________________________________________________________________________________\n",
      "average_pooling2d_29 (AveragePoo (None, None, None, 25 0           mixed0[0][0]                     \n",
      "____________________________________________________________________________________________________\n",
      "conv2d_295 (Conv2D)              (None, None, None, 64 16384       mixed0[0][0]                     \n",
      "____________________________________________________________________________________________________\n",
      "conv2d_297 (Conv2D)              (None, None, None, 64 76800       activation_296[0][0]             \n",
      "____________________________________________________________________________________________________\n",
      "conv2d_300 (Conv2D)              (None, None, None, 96 82944       activation_299[0][0]             \n",
      "____________________________________________________________________________________________________\n",
      "conv2d_301 (Conv2D)              (None, None, None, 64 16384       average_pooling2d_29[0][0]       \n",
      "____________________________________________________________________________________________________\n",
      "batch_normalization_295 (BatchNo (None, None, None, 64 192         conv2d_295[0][0]                 \n",
      "____________________________________________________________________________________________________\n",
      "batch_normalization_297 (BatchNo (None, None, None, 64 192         conv2d_297[0][0]                 \n",
      "____________________________________________________________________________________________________\n",
      "batch_normalization_300 (BatchNo (None, None, None, 96 288         conv2d_300[0][0]                 \n",
      "____________________________________________________________________________________________________\n",
      "batch_normalization_301 (BatchNo (None, None, None, 64 192         conv2d_301[0][0]                 \n",
      "____________________________________________________________________________________________________\n",
      "activation_295 (Activation)      (None, None, None, 64 0           batch_normalization_295[0][0]    \n",
      "____________________________________________________________________________________________________\n",
      "activation_297 (Activation)      (None, None, None, 64 0           batch_normalization_297[0][0]    \n",
      "____________________________________________________________________________________________________\n",
      "activation_300 (Activation)      (None, None, None, 96 0           batch_normalization_300[0][0]    \n",
      "____________________________________________________________________________________________________\n",
      "activation_301 (Activation)      (None, None, None, 64 0           batch_normalization_301[0][0]    \n",
      "____________________________________________________________________________________________________\n",
      "mixed1 (Concatenate)             (None, None, None, 28 0           activation_295[0][0]             \n",
      "                                                                   activation_297[0][0]             \n",
      "                                                                   activation_300[0][0]             \n",
      "                                                                   activation_301[0][0]             \n",
      "____________________________________________________________________________________________________\n",
      "conv2d_305 (Conv2D)              (None, None, None, 64 18432       mixed1[0][0]                     \n",
      "____________________________________________________________________________________________________\n",
      "batch_normalization_305 (BatchNo (None, None, None, 64 192         conv2d_305[0][0]                 \n",
      "____________________________________________________________________________________________________\n",
      "activation_305 (Activation)      (None, None, None, 64 0           batch_normalization_305[0][0]    \n",
      "____________________________________________________________________________________________________\n",
      "conv2d_303 (Conv2D)              (None, None, None, 48 13824       mixed1[0][0]                     \n",
      "____________________________________________________________________________________________________\n",
      "conv2d_306 (Conv2D)              (None, None, None, 96 55296       activation_305[0][0]             \n",
      "____________________________________________________________________________________________________\n",
      "batch_normalization_303 (BatchNo (None, None, None, 48 144         conv2d_303[0][0]                 \n",
      "____________________________________________________________________________________________________\n",
      "batch_normalization_306 (BatchNo (None, None, None, 96 288         conv2d_306[0][0]                 \n",
      "____________________________________________________________________________________________________\n",
      "activation_303 (Activation)      (None, None, None, 48 0           batch_normalization_303[0][0]    \n",
      "____________________________________________________________________________________________________\n",
      "activation_306 (Activation)      (None, None, None, 96 0           batch_normalization_306[0][0]    \n",
      "____________________________________________________________________________________________________\n",
      "average_pooling2d_30 (AveragePoo (None, None, None, 28 0           mixed1[0][0]                     \n",
      "____________________________________________________________________________________________________\n",
      "conv2d_302 (Conv2D)              (None, None, None, 64 18432       mixed1[0][0]                     \n",
      "____________________________________________________________________________________________________\n",
      "conv2d_304 (Conv2D)              (None, None, None, 64 76800       activation_303[0][0]             \n",
      "____________________________________________________________________________________________________\n",
      "conv2d_307 (Conv2D)              (None, None, None, 96 82944       activation_306[0][0]             \n",
      "____________________________________________________________________________________________________\n",
      "conv2d_308 (Conv2D)              (None, None, None, 64 18432       average_pooling2d_30[0][0]       \n",
      "____________________________________________________________________________________________________\n",
      "batch_normalization_302 (BatchNo (None, None, None, 64 192         conv2d_302[0][0]                 \n",
      "____________________________________________________________________________________________________\n",
      "batch_normalization_304 (BatchNo (None, None, None, 64 192         conv2d_304[0][0]                 \n",
      "____________________________________________________________________________________________________\n",
      "batch_normalization_307 (BatchNo (None, None, None, 96 288         conv2d_307[0][0]                 \n",
      "____________________________________________________________________________________________________\n",
      "batch_normalization_308 (BatchNo (None, None, None, 64 192         conv2d_308[0][0]                 \n",
      "____________________________________________________________________________________________________\n",
      "activation_302 (Activation)      (None, None, None, 64 0           batch_normalization_302[0][0]    \n",
      "____________________________________________________________________________________________________\n",
      "activation_304 (Activation)      (None, None, None, 64 0           batch_normalization_304[0][0]    \n",
      "____________________________________________________________________________________________________\n",
      "activation_307 (Activation)      (None, None, None, 96 0           batch_normalization_307[0][0]    \n",
      "____________________________________________________________________________________________________\n",
      "activation_308 (Activation)      (None, None, None, 64 0           batch_normalization_308[0][0]    \n",
      "____________________________________________________________________________________________________\n",
      "mixed2 (Concatenate)             (None, None, None, 28 0           activation_302[0][0]             \n",
      "                                                                   activation_304[0][0]             \n",
      "                                                                   activation_307[0][0]             \n",
      "                                                                   activation_308[0][0]             \n",
      "____________________________________________________________________________________________________\n",
      "conv2d_310 (Conv2D)              (None, None, None, 64 18432       mixed2[0][0]                     \n",
      "____________________________________________________________________________________________________\n",
      "batch_normalization_310 (BatchNo (None, None, None, 64 192         conv2d_310[0][0]                 \n",
      "____________________________________________________________________________________________________\n",
      "activation_310 (Activation)      (None, None, None, 64 0           batch_normalization_310[0][0]    \n",
      "____________________________________________________________________________________________________\n",
      "conv2d_311 (Conv2D)              (None, None, None, 96 55296       activation_310[0][0]             \n",
      "____________________________________________________________________________________________________\n",
      "batch_normalization_311 (BatchNo (None, None, None, 96 288         conv2d_311[0][0]                 \n",
      "____________________________________________________________________________________________________\n",
      "activation_311 (Activation)      (None, None, None, 96 0           batch_normalization_311[0][0]    \n",
      "____________________________________________________________________________________________________\n",
      "conv2d_309 (Conv2D)              (None, None, None, 38 995328      mixed2[0][0]                     \n",
      "____________________________________________________________________________________________________\n",
      "conv2d_312 (Conv2D)              (None, None, None, 96 82944       activation_311[0][0]             \n",
      "____________________________________________________________________________________________________\n",
      "batch_normalization_309 (BatchNo (None, None, None, 38 1152        conv2d_309[0][0]                 \n",
      "____________________________________________________________________________________________________\n",
      "batch_normalization_312 (BatchNo (None, None, None, 96 288         conv2d_312[0][0]                 \n",
      "____________________________________________________________________________________________________\n",
      "activation_309 (Activation)      (None, None, None, 38 0           batch_normalization_309[0][0]    \n",
      "____________________________________________________________________________________________________\n",
      "activation_312 (Activation)      (None, None, None, 96 0           batch_normalization_312[0][0]    \n",
      "____________________________________________________________________________________________________\n",
      "max_pooling2d_16 (MaxPooling2D)  (None, None, None, 28 0           mixed2[0][0]                     \n",
      "____________________________________________________________________________________________________\n",
      "mixed3 (Concatenate)             (None, None, None, 76 0           activation_309[0][0]             \n",
      "                                                                   activation_312[0][0]             \n",
      "                                                                   max_pooling2d_16[0][0]           \n",
      "____________________________________________________________________________________________________\n",
      "conv2d_317 (Conv2D)              (None, None, None, 12 98304       mixed3[0][0]                     \n",
      "____________________________________________________________________________________________________\n",
      "batch_normalization_317 (BatchNo (None, None, None, 12 384         conv2d_317[0][0]                 \n",
      "____________________________________________________________________________________________________\n",
      "activation_317 (Activation)      (None, None, None, 12 0           batch_normalization_317[0][0]    \n",
      "____________________________________________________________________________________________________\n",
      "conv2d_318 (Conv2D)              (None, None, None, 12 114688      activation_317[0][0]             \n",
      "____________________________________________________________________________________________________\n",
      "batch_normalization_318 (BatchNo (None, None, None, 12 384         conv2d_318[0][0]                 \n",
      "____________________________________________________________________________________________________\n",
      "activation_318 (Activation)      (None, None, None, 12 0           batch_normalization_318[0][0]    \n",
      "____________________________________________________________________________________________________\n",
      "conv2d_314 (Conv2D)              (None, None, None, 12 98304       mixed3[0][0]                     \n",
      "____________________________________________________________________________________________________\n",
      "conv2d_319 (Conv2D)              (None, None, None, 12 114688      activation_318[0][0]             \n",
      "____________________________________________________________________________________________________\n",
      "batch_normalization_314 (BatchNo (None, None, None, 12 384         conv2d_314[0][0]                 \n",
      "____________________________________________________________________________________________________\n",
      "batch_normalization_319 (BatchNo (None, None, None, 12 384         conv2d_319[0][0]                 \n",
      "____________________________________________________________________________________________________\n",
      "activation_314 (Activation)      (None, None, None, 12 0           batch_normalization_314[0][0]    \n",
      "____________________________________________________________________________________________________\n",
      "activation_319 (Activation)      (None, None, None, 12 0           batch_normalization_319[0][0]    \n",
      "____________________________________________________________________________________________________\n",
      "conv2d_315 (Conv2D)              (None, None, None, 12 114688      activation_314[0][0]             \n",
      "____________________________________________________________________________________________________\n",
      "conv2d_320 (Conv2D)              (None, None, None, 12 114688      activation_319[0][0]             \n",
      "____________________________________________________________________________________________________\n",
      "batch_normalization_315 (BatchNo (None, None, None, 12 384         conv2d_315[0][0]                 \n",
      "____________________________________________________________________________________________________\n",
      "batch_normalization_320 (BatchNo (None, None, None, 12 384         conv2d_320[0][0]                 \n",
      "____________________________________________________________________________________________________\n",
      "activation_315 (Activation)      (None, None, None, 12 0           batch_normalization_315[0][0]    \n",
      "____________________________________________________________________________________________________\n",
      "activation_320 (Activation)      (None, None, None, 12 0           batch_normalization_320[0][0]    \n",
      "____________________________________________________________________________________________________\n",
      "average_pooling2d_31 (AveragePoo (None, None, None, 76 0           mixed3[0][0]                     \n",
      "____________________________________________________________________________________________________\n",
      "conv2d_313 (Conv2D)              (None, None, None, 19 147456      mixed3[0][0]                     \n",
      "____________________________________________________________________________________________________\n",
      "conv2d_316 (Conv2D)              (None, None, None, 19 172032      activation_315[0][0]             \n",
      "____________________________________________________________________________________________________\n",
      "conv2d_321 (Conv2D)              (None, None, None, 19 172032      activation_320[0][0]             \n",
      "____________________________________________________________________________________________________\n",
      "conv2d_322 (Conv2D)              (None, None, None, 19 147456      average_pooling2d_31[0][0]       \n",
      "____________________________________________________________________________________________________\n",
      "batch_normalization_313 (BatchNo (None, None, None, 19 576         conv2d_313[0][0]                 \n",
      "____________________________________________________________________________________________________\n",
      "batch_normalization_316 (BatchNo (None, None, None, 19 576         conv2d_316[0][0]                 \n",
      "____________________________________________________________________________________________________\n",
      "batch_normalization_321 (BatchNo (None, None, None, 19 576         conv2d_321[0][0]                 \n",
      "____________________________________________________________________________________________________\n",
      "batch_normalization_322 (BatchNo (None, None, None, 19 576         conv2d_322[0][0]                 \n",
      "____________________________________________________________________________________________________\n",
      "activation_313 (Activation)      (None, None, None, 19 0           batch_normalization_313[0][0]    \n",
      "____________________________________________________________________________________________________\n",
      "activation_316 (Activation)      (None, None, None, 19 0           batch_normalization_316[0][0]    \n",
      "____________________________________________________________________________________________________\n",
      "activation_321 (Activation)      (None, None, None, 19 0           batch_normalization_321[0][0]    \n",
      "____________________________________________________________________________________________________\n",
      "activation_322 (Activation)      (None, None, None, 19 0           batch_normalization_322[0][0]    \n",
      "____________________________________________________________________________________________________\n",
      "mixed4 (Concatenate)             (None, None, None, 76 0           activation_313[0][0]             \n",
      "                                                                   activation_316[0][0]             \n",
      "                                                                   activation_321[0][0]             \n",
      "                                                                   activation_322[0][0]             \n",
      "____________________________________________________________________________________________________\n",
      "conv2d_327 (Conv2D)              (None, None, None, 16 122880      mixed4[0][0]                     \n",
      "____________________________________________________________________________________________________\n",
      "batch_normalization_327 (BatchNo (None, None, None, 16 480         conv2d_327[0][0]                 \n",
      "____________________________________________________________________________________________________\n",
      "activation_327 (Activation)      (None, None, None, 16 0           batch_normalization_327[0][0]    \n",
      "____________________________________________________________________________________________________\n",
      "conv2d_328 (Conv2D)              (None, None, None, 16 179200      activation_327[0][0]             \n",
      "____________________________________________________________________________________________________\n",
      "batch_normalization_328 (BatchNo (None, None, None, 16 480         conv2d_328[0][0]                 \n",
      "____________________________________________________________________________________________________\n",
      "activation_328 (Activation)      (None, None, None, 16 0           batch_normalization_328[0][0]    \n",
      "____________________________________________________________________________________________________\n",
      "conv2d_324 (Conv2D)              (None, None, None, 16 122880      mixed4[0][0]                     \n",
      "____________________________________________________________________________________________________\n",
      "conv2d_329 (Conv2D)              (None, None, None, 16 179200      activation_328[0][0]             \n",
      "____________________________________________________________________________________________________\n",
      "batch_normalization_324 (BatchNo (None, None, None, 16 480         conv2d_324[0][0]                 \n",
      "____________________________________________________________________________________________________\n",
      "batch_normalization_329 (BatchNo (None, None, None, 16 480         conv2d_329[0][0]                 \n",
      "____________________________________________________________________________________________________\n",
      "activation_324 (Activation)      (None, None, None, 16 0           batch_normalization_324[0][0]    \n",
      "____________________________________________________________________________________________________\n",
      "activation_329 (Activation)      (None, None, None, 16 0           batch_normalization_329[0][0]    \n",
      "____________________________________________________________________________________________________\n",
      "conv2d_325 (Conv2D)              (None, None, None, 16 179200      activation_324[0][0]             \n",
      "____________________________________________________________________________________________________\n",
      "conv2d_330 (Conv2D)              (None, None, None, 16 179200      activation_329[0][0]             \n",
      "____________________________________________________________________________________________________\n",
      "batch_normalization_325 (BatchNo (None, None, None, 16 480         conv2d_325[0][0]                 \n",
      "____________________________________________________________________________________________________\n",
      "batch_normalization_330 (BatchNo (None, None, None, 16 480         conv2d_330[0][0]                 \n",
      "____________________________________________________________________________________________________\n",
      "activation_325 (Activation)      (None, None, None, 16 0           batch_normalization_325[0][0]    \n",
      "____________________________________________________________________________________________________\n",
      "activation_330 (Activation)      (None, None, None, 16 0           batch_normalization_330[0][0]    \n",
      "____________________________________________________________________________________________________\n",
      "average_pooling2d_32 (AveragePoo (None, None, None, 76 0           mixed4[0][0]                     \n",
      "____________________________________________________________________________________________________\n",
      "conv2d_323 (Conv2D)              (None, None, None, 19 147456      mixed4[0][0]                     \n",
      "____________________________________________________________________________________________________\n",
      "conv2d_326 (Conv2D)              (None, None, None, 19 215040      activation_325[0][0]             \n",
      "____________________________________________________________________________________________________\n",
      "conv2d_331 (Conv2D)              (None, None, None, 19 215040      activation_330[0][0]             \n",
      "____________________________________________________________________________________________________\n",
      "conv2d_332 (Conv2D)              (None, None, None, 19 147456      average_pooling2d_32[0][0]       \n",
      "____________________________________________________________________________________________________\n",
      "batch_normalization_323 (BatchNo (None, None, None, 19 576         conv2d_323[0][0]                 \n",
      "____________________________________________________________________________________________________\n",
      "batch_normalization_326 (BatchNo (None, None, None, 19 576         conv2d_326[0][0]                 \n",
      "____________________________________________________________________________________________________\n",
      "batch_normalization_331 (BatchNo (None, None, None, 19 576         conv2d_331[0][0]                 \n",
      "____________________________________________________________________________________________________\n",
      "batch_normalization_332 (BatchNo (None, None, None, 19 576         conv2d_332[0][0]                 \n",
      "____________________________________________________________________________________________________\n",
      "activation_323 (Activation)      (None, None, None, 19 0           batch_normalization_323[0][0]    \n",
      "____________________________________________________________________________________________________\n",
      "activation_326 (Activation)      (None, None, None, 19 0           batch_normalization_326[0][0]    \n",
      "____________________________________________________________________________________________________\n",
      "activation_331 (Activation)      (None, None, None, 19 0           batch_normalization_331[0][0]    \n",
      "____________________________________________________________________________________________________\n",
      "activation_332 (Activation)      (None, None, None, 19 0           batch_normalization_332[0][0]    \n",
      "____________________________________________________________________________________________________\n",
      "mixed5 (Concatenate)             (None, None, None, 76 0           activation_323[0][0]             \n",
      "                                                                   activation_326[0][0]             \n",
      "                                                                   activation_331[0][0]             \n",
      "                                                                   activation_332[0][0]             \n",
      "____________________________________________________________________________________________________\n",
      "conv2d_337 (Conv2D)              (None, None, None, 16 122880      mixed5[0][0]                     \n",
      "____________________________________________________________________________________________________\n",
      "batch_normalization_337 (BatchNo (None, None, None, 16 480         conv2d_337[0][0]                 \n",
      "____________________________________________________________________________________________________\n",
      "activation_337 (Activation)      (None, None, None, 16 0           batch_normalization_337[0][0]    \n",
      "____________________________________________________________________________________________________\n",
      "conv2d_338 (Conv2D)              (None, None, None, 16 179200      activation_337[0][0]             \n",
      "____________________________________________________________________________________________________\n",
      "batch_normalization_338 (BatchNo (None, None, None, 16 480         conv2d_338[0][0]                 \n",
      "____________________________________________________________________________________________________\n",
      "activation_338 (Activation)      (None, None, None, 16 0           batch_normalization_338[0][0]    \n",
      "____________________________________________________________________________________________________\n",
      "conv2d_334 (Conv2D)              (None, None, None, 16 122880      mixed5[0][0]                     \n",
      "____________________________________________________________________________________________________\n",
      "conv2d_339 (Conv2D)              (None, None, None, 16 179200      activation_338[0][0]             \n",
      "____________________________________________________________________________________________________\n",
      "batch_normalization_334 (BatchNo (None, None, None, 16 480         conv2d_334[0][0]                 \n",
      "____________________________________________________________________________________________________\n",
      "batch_normalization_339 (BatchNo (None, None, None, 16 480         conv2d_339[0][0]                 \n",
      "____________________________________________________________________________________________________\n",
      "activation_334 (Activation)      (None, None, None, 16 0           batch_normalization_334[0][0]    \n",
      "____________________________________________________________________________________________________\n",
      "activation_339 (Activation)      (None, None, None, 16 0           batch_normalization_339[0][0]    \n",
      "____________________________________________________________________________________________________\n",
      "conv2d_335 (Conv2D)              (None, None, None, 16 179200      activation_334[0][0]             \n",
      "____________________________________________________________________________________________________\n",
      "conv2d_340 (Conv2D)              (None, None, None, 16 179200      activation_339[0][0]             \n",
      "____________________________________________________________________________________________________\n",
      "batch_normalization_335 (BatchNo (None, None, None, 16 480         conv2d_335[0][0]                 \n",
      "____________________________________________________________________________________________________\n",
      "batch_normalization_340 (BatchNo (None, None, None, 16 480         conv2d_340[0][0]                 \n",
      "____________________________________________________________________________________________________\n",
      "activation_335 (Activation)      (None, None, None, 16 0           batch_normalization_335[0][0]    \n",
      "____________________________________________________________________________________________________\n",
      "activation_340 (Activation)      (None, None, None, 16 0           batch_normalization_340[0][0]    \n",
      "____________________________________________________________________________________________________\n",
      "average_pooling2d_33 (AveragePoo (None, None, None, 76 0           mixed5[0][0]                     \n",
      "____________________________________________________________________________________________________\n",
      "conv2d_333 (Conv2D)              (None, None, None, 19 147456      mixed5[0][0]                     \n",
      "____________________________________________________________________________________________________\n",
      "conv2d_336 (Conv2D)              (None, None, None, 19 215040      activation_335[0][0]             \n",
      "____________________________________________________________________________________________________\n",
      "conv2d_341 (Conv2D)              (None, None, None, 19 215040      activation_340[0][0]             \n",
      "____________________________________________________________________________________________________\n",
      "conv2d_342 (Conv2D)              (None, None, None, 19 147456      average_pooling2d_33[0][0]       \n",
      "____________________________________________________________________________________________________\n",
      "batch_normalization_333 (BatchNo (None, None, None, 19 576         conv2d_333[0][0]                 \n",
      "____________________________________________________________________________________________________\n",
      "batch_normalization_336 (BatchNo (None, None, None, 19 576         conv2d_336[0][0]                 \n",
      "____________________________________________________________________________________________________\n",
      "batch_normalization_341 (BatchNo (None, None, None, 19 576         conv2d_341[0][0]                 \n",
      "____________________________________________________________________________________________________\n",
      "batch_normalization_342 (BatchNo (None, None, None, 19 576         conv2d_342[0][0]                 \n",
      "____________________________________________________________________________________________________\n",
      "activation_333 (Activation)      (None, None, None, 19 0           batch_normalization_333[0][0]    \n",
      "____________________________________________________________________________________________________\n",
      "activation_336 (Activation)      (None, None, None, 19 0           batch_normalization_336[0][0]    \n",
      "____________________________________________________________________________________________________\n",
      "activation_341 (Activation)      (None, None, None, 19 0           batch_normalization_341[0][0]    \n",
      "____________________________________________________________________________________________________\n",
      "activation_342 (Activation)      (None, None, None, 19 0           batch_normalization_342[0][0]    \n",
      "____________________________________________________________________________________________________\n",
      "mixed6 (Concatenate)             (None, None, None, 76 0           activation_333[0][0]             \n",
      "                                                                   activation_336[0][0]             \n",
      "                                                                   activation_341[0][0]             \n",
      "                                                                   activation_342[0][0]             \n",
      "____________________________________________________________________________________________________\n",
      "conv2d_347 (Conv2D)              (None, None, None, 19 147456      mixed6[0][0]                     \n",
      "____________________________________________________________________________________________________\n",
      "batch_normalization_347 (BatchNo (None, None, None, 19 576         conv2d_347[0][0]                 \n",
      "____________________________________________________________________________________________________\n",
      "activation_347 (Activation)      (None, None, None, 19 0           batch_normalization_347[0][0]    \n",
      "____________________________________________________________________________________________________\n",
      "conv2d_348 (Conv2D)              (None, None, None, 19 258048      activation_347[0][0]             \n",
      "____________________________________________________________________________________________________\n",
      "batch_normalization_348 (BatchNo (None, None, None, 19 576         conv2d_348[0][0]                 \n",
      "____________________________________________________________________________________________________\n",
      "activation_348 (Activation)      (None, None, None, 19 0           batch_normalization_348[0][0]    \n",
      "____________________________________________________________________________________________________\n",
      "conv2d_344 (Conv2D)              (None, None, None, 19 147456      mixed6[0][0]                     \n",
      "____________________________________________________________________________________________________\n",
      "conv2d_349 (Conv2D)              (None, None, None, 19 258048      activation_348[0][0]             \n",
      "____________________________________________________________________________________________________\n",
      "batch_normalization_344 (BatchNo (None, None, None, 19 576         conv2d_344[0][0]                 \n",
      "____________________________________________________________________________________________________\n",
      "batch_normalization_349 (BatchNo (None, None, None, 19 576         conv2d_349[0][0]                 \n",
      "____________________________________________________________________________________________________\n",
      "activation_344 (Activation)      (None, None, None, 19 0           batch_normalization_344[0][0]    \n",
      "____________________________________________________________________________________________________\n",
      "activation_349 (Activation)      (None, None, None, 19 0           batch_normalization_349[0][0]    \n",
      "____________________________________________________________________________________________________\n",
      "conv2d_345 (Conv2D)              (None, None, None, 19 258048      activation_344[0][0]             \n",
      "____________________________________________________________________________________________________\n",
      "conv2d_350 (Conv2D)              (None, None, None, 19 258048      activation_349[0][0]             \n",
      "____________________________________________________________________________________________________\n",
      "batch_normalization_345 (BatchNo (None, None, None, 19 576         conv2d_345[0][0]                 \n",
      "____________________________________________________________________________________________________\n",
      "batch_normalization_350 (BatchNo (None, None, None, 19 576         conv2d_350[0][0]                 \n",
      "____________________________________________________________________________________________________\n",
      "activation_345 (Activation)      (None, None, None, 19 0           batch_normalization_345[0][0]    \n",
      "____________________________________________________________________________________________________\n",
      "activation_350 (Activation)      (None, None, None, 19 0           batch_normalization_350[0][0]    \n",
      "____________________________________________________________________________________________________\n",
      "average_pooling2d_34 (AveragePoo (None, None, None, 76 0           mixed6[0][0]                     \n",
      "____________________________________________________________________________________________________\n",
      "conv2d_343 (Conv2D)              (None, None, None, 19 147456      mixed6[0][0]                     \n",
      "____________________________________________________________________________________________________\n",
      "conv2d_346 (Conv2D)              (None, None, None, 19 258048      activation_345[0][0]             \n",
      "____________________________________________________________________________________________________\n",
      "conv2d_351 (Conv2D)              (None, None, None, 19 258048      activation_350[0][0]             \n",
      "____________________________________________________________________________________________________\n",
      "conv2d_352 (Conv2D)              (None, None, None, 19 147456      average_pooling2d_34[0][0]       \n",
      "____________________________________________________________________________________________________\n",
      "batch_normalization_343 (BatchNo (None, None, None, 19 576         conv2d_343[0][0]                 \n",
      "____________________________________________________________________________________________________\n",
      "batch_normalization_346 (BatchNo (None, None, None, 19 576         conv2d_346[0][0]                 \n",
      "____________________________________________________________________________________________________\n",
      "batch_normalization_351 (BatchNo (None, None, None, 19 576         conv2d_351[0][0]                 \n",
      "____________________________________________________________________________________________________\n",
      "batch_normalization_352 (BatchNo (None, None, None, 19 576         conv2d_352[0][0]                 \n",
      "____________________________________________________________________________________________________\n",
      "activation_343 (Activation)      (None, None, None, 19 0           batch_normalization_343[0][0]    \n",
      "____________________________________________________________________________________________________\n",
      "activation_346 (Activation)      (None, None, None, 19 0           batch_normalization_346[0][0]    \n",
      "____________________________________________________________________________________________________\n",
      "activation_351 (Activation)      (None, None, None, 19 0           batch_normalization_351[0][0]    \n",
      "____________________________________________________________________________________________________\n",
      "activation_352 (Activation)      (None, None, None, 19 0           batch_normalization_352[0][0]    \n",
      "____________________________________________________________________________________________________\n",
      "mixed7 (Concatenate)             (None, None, None, 76 0           activation_343[0][0]             \n",
      "                                                                   activation_346[0][0]             \n",
      "                                                                   activation_351[0][0]             \n",
      "                                                                   activation_352[0][0]             \n",
      "____________________________________________________________________________________________________\n",
      "conv2d_355 (Conv2D)              (None, None, None, 19 147456      mixed7[0][0]                     \n",
      "____________________________________________________________________________________________________\n",
      "batch_normalization_355 (BatchNo (None, None, None, 19 576         conv2d_355[0][0]                 \n",
      "____________________________________________________________________________________________________\n",
      "activation_355 (Activation)      (None, None, None, 19 0           batch_normalization_355[0][0]    \n",
      "____________________________________________________________________________________________________\n",
      "conv2d_356 (Conv2D)              (None, None, None, 19 258048      activation_355[0][0]             \n",
      "____________________________________________________________________________________________________\n",
      "batch_normalization_356 (BatchNo (None, None, None, 19 576         conv2d_356[0][0]                 \n",
      "____________________________________________________________________________________________________\n",
      "activation_356 (Activation)      (None, None, None, 19 0           batch_normalization_356[0][0]    \n",
      "____________________________________________________________________________________________________\n",
      "conv2d_353 (Conv2D)              (None, None, None, 19 147456      mixed7[0][0]                     \n",
      "____________________________________________________________________________________________________\n",
      "conv2d_357 (Conv2D)              (None, None, None, 19 258048      activation_356[0][0]             \n",
      "____________________________________________________________________________________________________\n",
      "batch_normalization_353 (BatchNo (None, None, None, 19 576         conv2d_353[0][0]                 \n",
      "____________________________________________________________________________________________________\n",
      "batch_normalization_357 (BatchNo (None, None, None, 19 576         conv2d_357[0][0]                 \n",
      "____________________________________________________________________________________________________\n",
      "activation_353 (Activation)      (None, None, None, 19 0           batch_normalization_353[0][0]    \n",
      "____________________________________________________________________________________________________\n",
      "activation_357 (Activation)      (None, None, None, 19 0           batch_normalization_357[0][0]    \n",
      "____________________________________________________________________________________________________\n",
      "conv2d_354 (Conv2D)              (None, None, None, 32 552960      activation_353[0][0]             \n",
      "____________________________________________________________________________________________________\n",
      "conv2d_358 (Conv2D)              (None, None, None, 19 331776      activation_357[0][0]             \n",
      "____________________________________________________________________________________________________\n",
      "batch_normalization_354 (BatchNo (None, None, None, 32 960         conv2d_354[0][0]                 \n",
      "____________________________________________________________________________________________________\n",
      "batch_normalization_358 (BatchNo (None, None, None, 19 576         conv2d_358[0][0]                 \n",
      "____________________________________________________________________________________________________\n",
      "activation_354 (Activation)      (None, None, None, 32 0           batch_normalization_354[0][0]    \n",
      "____________________________________________________________________________________________________\n",
      "activation_358 (Activation)      (None, None, None, 19 0           batch_normalization_358[0][0]    \n",
      "____________________________________________________________________________________________________\n",
      "max_pooling2d_17 (MaxPooling2D)  (None, None, None, 76 0           mixed7[0][0]                     \n",
      "____________________________________________________________________________________________________\n",
      "mixed8 (Concatenate)             (None, None, None, 12 0           activation_354[0][0]             \n",
      "                                                                   activation_358[0][0]             \n",
      "                                                                   max_pooling2d_17[0][0]           \n",
      "____________________________________________________________________________________________________\n",
      "conv2d_363 (Conv2D)              (None, None, None, 44 573440      mixed8[0][0]                     \n",
      "____________________________________________________________________________________________________\n",
      "batch_normalization_363 (BatchNo (None, None, None, 44 1344        conv2d_363[0][0]                 \n",
      "____________________________________________________________________________________________________\n",
      "activation_363 (Activation)      (None, None, None, 44 0           batch_normalization_363[0][0]    \n",
      "____________________________________________________________________________________________________\n",
      "conv2d_360 (Conv2D)              (None, None, None, 38 491520      mixed8[0][0]                     \n",
      "____________________________________________________________________________________________________\n",
      "conv2d_364 (Conv2D)              (None, None, None, 38 1548288     activation_363[0][0]             \n",
      "____________________________________________________________________________________________________\n",
      "batch_normalization_360 (BatchNo (None, None, None, 38 1152        conv2d_360[0][0]                 \n",
      "____________________________________________________________________________________________________\n",
      "batch_normalization_364 (BatchNo (None, None, None, 38 1152        conv2d_364[0][0]                 \n",
      "____________________________________________________________________________________________________\n",
      "activation_360 (Activation)      (None, None, None, 38 0           batch_normalization_360[0][0]    \n",
      "____________________________________________________________________________________________________\n",
      "activation_364 (Activation)      (None, None, None, 38 0           batch_normalization_364[0][0]    \n",
      "____________________________________________________________________________________________________\n",
      "conv2d_361 (Conv2D)              (None, None, None, 38 442368      activation_360[0][0]             \n",
      "____________________________________________________________________________________________________\n",
      "conv2d_362 (Conv2D)              (None, None, None, 38 442368      activation_360[0][0]             \n",
      "____________________________________________________________________________________________________\n",
      "conv2d_365 (Conv2D)              (None, None, None, 38 442368      activation_364[0][0]             \n",
      "____________________________________________________________________________________________________\n",
      "conv2d_366 (Conv2D)              (None, None, None, 38 442368      activation_364[0][0]             \n",
      "____________________________________________________________________________________________________\n",
      "average_pooling2d_35 (AveragePoo (None, None, None, 12 0           mixed8[0][0]                     \n",
      "____________________________________________________________________________________________________\n",
      "conv2d_359 (Conv2D)              (None, None, None, 32 409600      mixed8[0][0]                     \n",
      "____________________________________________________________________________________________________\n",
      "batch_normalization_361 (BatchNo (None, None, None, 38 1152        conv2d_361[0][0]                 \n",
      "____________________________________________________________________________________________________\n",
      "batch_normalization_362 (BatchNo (None, None, None, 38 1152        conv2d_362[0][0]                 \n",
      "____________________________________________________________________________________________________\n",
      "batch_normalization_365 (BatchNo (None, None, None, 38 1152        conv2d_365[0][0]                 \n",
      "____________________________________________________________________________________________________\n",
      "batch_normalization_366 (BatchNo (None, None, None, 38 1152        conv2d_366[0][0]                 \n",
      "____________________________________________________________________________________________________\n",
      "conv2d_367 (Conv2D)              (None, None, None, 19 245760      average_pooling2d_35[0][0]       \n",
      "____________________________________________________________________________________________________\n",
      "batch_normalization_359 (BatchNo (None, None, None, 32 960         conv2d_359[0][0]                 \n",
      "____________________________________________________________________________________________________\n",
      "activation_361 (Activation)      (None, None, None, 38 0           batch_normalization_361[0][0]    \n",
      "____________________________________________________________________________________________________\n",
      "activation_362 (Activation)      (None, None, None, 38 0           batch_normalization_362[0][0]    \n",
      "____________________________________________________________________________________________________\n",
      "activation_365 (Activation)      (None, None, None, 38 0           batch_normalization_365[0][0]    \n",
      "____________________________________________________________________________________________________\n",
      "activation_366 (Activation)      (None, None, None, 38 0           batch_normalization_366[0][0]    \n",
      "____________________________________________________________________________________________________\n",
      "batch_normalization_367 (BatchNo (None, None, None, 19 576         conv2d_367[0][0]                 \n",
      "____________________________________________________________________________________________________\n",
      "activation_359 (Activation)      (None, None, None, 32 0           batch_normalization_359[0][0]    \n",
      "____________________________________________________________________________________________________\n",
      "mixed9_0 (Concatenate)           (None, None, None, 76 0           activation_361[0][0]             \n",
      "                                                                   activation_362[0][0]             \n",
      "____________________________________________________________________________________________________\n",
      "concatenate_7 (Concatenate)      (None, None, None, 76 0           activation_365[0][0]             \n",
      "                                                                   activation_366[0][0]             \n",
      "____________________________________________________________________________________________________\n",
      "activation_367 (Activation)      (None, None, None, 19 0           batch_normalization_367[0][0]    \n",
      "____________________________________________________________________________________________________\n",
      "mixed9 (Concatenate)             (None, None, None, 20 0           activation_359[0][0]             \n",
      "                                                                   mixed9_0[0][0]                   \n",
      "                                                                   concatenate_7[0][0]              \n",
      "                                                                   activation_367[0][0]             \n",
      "____________________________________________________________________________________________________\n",
      "conv2d_372 (Conv2D)              (None, None, None, 44 917504      mixed9[0][0]                     \n",
      "____________________________________________________________________________________________________\n",
      "batch_normalization_372 (BatchNo (None, None, None, 44 1344        conv2d_372[0][0]                 \n",
      "____________________________________________________________________________________________________\n",
      "activation_372 (Activation)      (None, None, None, 44 0           batch_normalization_372[0][0]    \n",
      "____________________________________________________________________________________________________\n",
      "conv2d_369 (Conv2D)              (None, None, None, 38 786432      mixed9[0][0]                     \n",
      "____________________________________________________________________________________________________\n",
      "conv2d_373 (Conv2D)              (None, None, None, 38 1548288     activation_372[0][0]             \n",
      "____________________________________________________________________________________________________\n",
      "batch_normalization_369 (BatchNo (None, None, None, 38 1152        conv2d_369[0][0]                 \n",
      "____________________________________________________________________________________________________\n",
      "batch_normalization_373 (BatchNo (None, None, None, 38 1152        conv2d_373[0][0]                 \n",
      "____________________________________________________________________________________________________\n",
      "activation_369 (Activation)      (None, None, None, 38 0           batch_normalization_369[0][0]    \n",
      "____________________________________________________________________________________________________\n",
      "activation_373 (Activation)      (None, None, None, 38 0           batch_normalization_373[0][0]    \n",
      "____________________________________________________________________________________________________\n",
      "conv2d_370 (Conv2D)              (None, None, None, 38 442368      activation_369[0][0]             \n",
      "____________________________________________________________________________________________________\n",
      "conv2d_371 (Conv2D)              (None, None, None, 38 442368      activation_369[0][0]             \n",
      "____________________________________________________________________________________________________\n",
      "conv2d_374 (Conv2D)              (None, None, None, 38 442368      activation_373[0][0]             \n",
      "____________________________________________________________________________________________________\n",
      "conv2d_375 (Conv2D)              (None, None, None, 38 442368      activation_373[0][0]             \n",
      "____________________________________________________________________________________________________\n",
      "average_pooling2d_36 (AveragePoo (None, None, None, 20 0           mixed9[0][0]                     \n",
      "____________________________________________________________________________________________________\n",
      "conv2d_368 (Conv2D)              (None, None, None, 32 655360      mixed9[0][0]                     \n",
      "____________________________________________________________________________________________________\n",
      "batch_normalization_370 (BatchNo (None, None, None, 38 1152        conv2d_370[0][0]                 \n",
      "____________________________________________________________________________________________________\n",
      "batch_normalization_371 (BatchNo (None, None, None, 38 1152        conv2d_371[0][0]                 \n",
      "____________________________________________________________________________________________________\n",
      "batch_normalization_374 (BatchNo (None, None, None, 38 1152        conv2d_374[0][0]                 \n",
      "____________________________________________________________________________________________________\n",
      "batch_normalization_375 (BatchNo (None, None, None, 38 1152        conv2d_375[0][0]                 \n",
      "____________________________________________________________________________________________________\n",
      "conv2d_376 (Conv2D)              (None, None, None, 19 393216      average_pooling2d_36[0][0]       \n",
      "____________________________________________________________________________________________________\n",
      "batch_normalization_368 (BatchNo (None, None, None, 32 960         conv2d_368[0][0]                 \n",
      "____________________________________________________________________________________________________\n",
      "activation_370 (Activation)      (None, None, None, 38 0           batch_normalization_370[0][0]    \n",
      "____________________________________________________________________________________________________\n",
      "activation_371 (Activation)      (None, None, None, 38 0           batch_normalization_371[0][0]    \n",
      "____________________________________________________________________________________________________\n",
      "activation_374 (Activation)      (None, None, None, 38 0           batch_normalization_374[0][0]    \n",
      "____________________________________________________________________________________________________\n",
      "activation_375 (Activation)      (None, None, None, 38 0           batch_normalization_375[0][0]    \n",
      "____________________________________________________________________________________________________\n",
      "batch_normalization_376 (BatchNo (None, None, None, 19 576         conv2d_376[0][0]                 \n",
      "____________________________________________________________________________________________________\n",
      "activation_368 (Activation)      (None, None, None, 32 0           batch_normalization_368[0][0]    \n",
      "____________________________________________________________________________________________________\n",
      "mixed9_1 (Concatenate)           (None, None, None, 76 0           activation_370[0][0]             \n",
      "                                                                   activation_371[0][0]             \n",
      "____________________________________________________________________________________________________\n",
      "concatenate_8 (Concatenate)      (None, None, None, 76 0           activation_374[0][0]             \n",
      "                                                                   activation_375[0][0]             \n",
      "____________________________________________________________________________________________________\n",
      "activation_376 (Activation)      (None, None, None, 19 0           batch_normalization_376[0][0]    \n",
      "____________________________________________________________________________________________________\n",
      "mixed10 (Concatenate)            (None, None, None, 20 0           activation_368[0][0]             \n",
      "                                                                   mixed9_1[0][0]                   \n",
      "                                                                   concatenate_8[0][0]              \n",
      "                                                                   activation_376[0][0]             \n",
      "____________________________________________________________________________________________________\n",
      "global_average_pooling2d_2 (Glob (None, 2048)          0           mixed10[0][0]                    \n",
      "____________________________________________________________________________________________________\n",
      "dense_7 (Dense)                  (None, 1024)          2098176     global_average_pooling2d_2[0][0] \n",
      "____________________________________________________________________________________________________\n",
      "dropout_5 (Dropout)              (None, 1024)          0           dense_7[0][0]                    \n",
      "____________________________________________________________________________________________________\n",
      "dense_8 (Dense)                  (None, 512)           524800      dropout_5[0][0]                  \n",
      "____________________________________________________________________________________________________\n",
      "dropout_6 (Dropout)              (None, 512)           0           dense_8[0][0]                    \n",
      "____________________________________________________________________________________________________\n",
      "dense_9 (Dense)                  (None, 101)           51813       dropout_6[0][0]                  \n",
      "====================================================================================================\n",
      "Total params: 24,477,573\n",
      "Trainable params: 8,748,325\n",
      "Non-trainable params: 15,729,248\n",
      "____________________________________________________________________________________________________\n"
     ]
    }
   ],
   "source": [
    "transfer_learning_model = build_transfer_learning_model()\n",
    "freeze_layers(transfer_learning_model, 280)\n",
    "\n",
    "transfer_learning_model.summary()\n"
   ]
  },
  {
   "cell_type": "code",
   "execution_count": 17,
   "metadata": {},
   "outputs": [],
   "source": [
    "def compile_model(model):\n",
    "    optimizer = Adadelta(learning_rate=1.0, rho=0.9, epsilon=1e-08, decay=0.0)\n",
    "    model.compile(loss='categorical_crossentropy', optimizer=optimizer, metrics=['accuracy'])\n",
    "\n",
    "compile_model(transfer_learning_model)"
   ]
  },
  {
   "cell_type": "code",
   "execution_count": 32,
   "metadata": {},
   "outputs": [
    {
     "name": "stdout",
     "output_type": "stream",
     "text": [
      "Train on 6507 samples, validate on 2170 samples\n",
      "Epoch 1/15\n",
      "6507/6507 [==============================] - 124s - loss: 1.8833 - acc: 0.5915 - val_loss: 0.4862 - val_acc: 0.8737\n",
      "Epoch 2/15\n",
      "6507/6507 [==============================] - 92s - loss: 0.5494 - acc: 0.8535 - val_loss: 0.3566 - val_acc: 0.9115\n",
      "Epoch 3/15\n",
      "6507/6507 [==============================] - 90s - loss: 0.3064 - acc: 0.9153 - val_loss: 0.3179 - val_acc: 0.9189\n",
      "Epoch 4/15\n",
      "6507/6507 [==============================] - 90s - loss: 0.1879 - acc: 0.9481 - val_loss: 0.3018 - val_acc: 0.9263\n",
      "Epoch 5/15\n",
      "6507/6507 [==============================] - 90s - loss: 0.1223 - acc: 0.9643 - val_loss: 0.2915 - val_acc: 0.9341\n",
      "Epoch 6/15\n",
      "6507/6507 [==============================] - 89s - loss: 0.0805 - acc: 0.9763 - val_loss: 0.2946 - val_acc: 0.9318\n",
      "Epoch 7/15\n",
      "6507/6507 [==============================] - 90s - loss: 0.0636 - acc: 0.9817 - val_loss: 0.3043 - val_acc: 0.9332\n",
      "Epoch 8/15\n",
      "6507/6507 [==============================] - 90s - loss: 0.0485 - acc: 0.9871 - val_loss: 0.3051 - val_acc: 0.9392\n",
      "Epoch 9/15\n",
      "6507/6507 [==============================] - 90s - loss: 0.0376 - acc: 0.9889 - val_loss: 0.3239 - val_acc: 0.9382\n",
      "Epoch 10/15\n",
      "6507/6507 [==============================] - 89s - loss: 0.0397 - acc: 0.9885 - val_loss: 0.3408 - val_acc: 0.9323\n",
      "Epoch 00009: early stopping\n"
     ]
    },
    {
     "data": {
      "text/plain": [
       "<keras.callbacks.History at 0x7f03644694a8>"
      ]
     },
     "execution_count": 32,
     "metadata": {},
     "output_type": "execute_result"
    }
   ],
   "source": [
    "def train_model(model, X_train, Y_train, X_validation, Y_validation):\n",
    "    callbacks_list = [\n",
    "        ModelCheckpoint(filepath='transfer_learning_weights.h5', monitor='val_acc', save_best_only=True),\n",
    "        EarlyStopping(monitor='val_loss', patience=4, verbose=1, mode='auto')\n",
    "    ]\n",
    "    history = model.fit(\n",
    "        x=X_train,\n",
    "        y=Y_train,\n",
    "        batch_size=32,\n",
    "        epochs=15,\n",
    "        verbose=1,\n",
    "        validation_data=(X_validation, Y_validation),\n",
    "        callbacks=callbacks_list\n",
    "    )\n",
    "    return history\n",
    "\n",
    "history = train_model(transfer_learning_model, X_train, Y_train, X_validation, Y_validation)\n"
   ]
  },
  {
   "cell_type": "markdown",
   "metadata": {},
   "source": [
    "## Predictions from two models"
   ]
  },
  {
   "cell_type": "markdown",
   "metadata": {},
   "source": [
    "#### Predicting for one image"
   ]
  },
  {
   "cell_type": "code",
   "execution_count": 39,
   "metadata": {},
   "outputs": [],
   "source": [
    "dolphin_imgs = get_image('dolphin','./data')"
   ]
  },
  {
   "cell_type": "code",
   "execution_count": 40,
   "metadata": {},
   "outputs": [
    {
     "data": {
      "text/plain": [
       "'./data/101_ObjectCategories/dolphin/image_0012.jpg'"
      ]
     },
     "execution_count": 40,
     "metadata": {},
     "output_type": "execute_result"
    }
   ],
   "source": [
    "dolphin_imgs[0]"
   ]
  },
  {
   "cell_type": "code",
   "execution_count": 44,
   "metadata": {},
   "outputs": [],
   "source": [
    "img = read_image(dolphin_imgs[0])"
   ]
  },
  {
   "cell_type": "code",
   "execution_count": 45,
   "metadata": {},
   "outputs": [
    {
     "data": {
      "text/plain": [
       "(200, 300, 3)"
      ]
     },
     "execution_count": 45,
     "metadata": {},
     "output_type": "execute_result"
    }
   ],
   "source": [
    "img.shape"
   ]
  },
  {
   "cell_type": "code",
   "execution_count": 46,
   "metadata": {},
   "outputs": [],
   "source": [
    "img = img.reshape((1,200,300,3))"
   ]
  },
  {
   "cell_type": "code",
   "execution_count": 48,
   "metadata": {},
   "outputs": [],
   "source": [
    "prediction = model_cnn_dropout.predict(img)"
   ]
  },
  {
   "cell_type": "code",
   "execution_count": 49,
   "metadata": {},
   "outputs": [
    {
     "name": "stdout",
     "output_type": "stream",
     "text": [
      "dolphin\n"
     ]
    }
   ],
   "source": [
    "label_predicted = label_encoder.inverse_transform(np.argmax(prediction))\n",
    "print(label_predicted)"
   ]
  },
  {
   "cell_type": "markdown",
   "metadata": {},
   "source": [
    "## Accuracy per category"
   ]
  },
  {
   "cell_type": "code",
   "execution_count": 33,
   "metadata": {},
   "outputs": [],
   "source": [
    "def find_accuracy_per_category(data_directory, nn_model):\n",
    "    category_accuracy_dict = {}\n",
    "    \n",
    "    images_per_category = {\n",
    "        category: [img for img in get_images(category, data_directory) if img.endswith('.jpg')]\n",
    "        for category, _ in return_images_per_category(data_directory)\n",
    "        if category != 'BACKGROUND_Google'\n",
    "    }\n",
    "\n",
    "    for category, images in images_per_category.items():\n",
    "        count = len(images)\n",
    "        Y_category = to_categorical(label_encoder.transform([category] * count), num_classes=101)\n",
    "        assert Y_category.shape == (count, 101)\n",
    "\n",
    "        X_category = np.array([read_image(img) / 255 for img in images])\n",
    "        score = nn_model.evaluate(x=X_category, y=Y_category, verbose=1)\n",
    "        \n",
    "        category_accuracy_dict[category] = score\n",
    "        del X_category  # Free up memory\n",
    "\n",
    "    print(\"Accuracy found for each class\")\n",
    "    return category_accuracy_dict\n"
   ]
  },
  {
   "cell_type": "code",
   "execution_count": null,
   "metadata": {},
   "outputs": [],
   "source": [
    "# Testing first model\n",
    "cnn_dropout_score_dict = find_accuracy_per_category('./data', model_cnn_dropout)"
   ]
  },
  {
   "cell_type": "code",
   "execution_count": 99,
   "metadata": {},
   "outputs": [],
   "source": [
    "# Deallocate memory - discard unneeded variables\n",
    "del X\n",
    "del X_normalized"
   ]
  },
  {
   "cell_type": "code",
   "execution_count": 100,
   "metadata": {},
   "outputs": [
    {
     "name": "stdout",
     "output_type": "stream",
     "text": [
      "Predicting images for  airplanes\n",
      "800/800 [==============================] - 3s     \n",
      "Predicting images for  Motorbikes\n",
      "798/798 [==============================] - 3s     \n",
      "Predicting images for  Faces\n",
      "435/435 [==============================] - 2s     \n",
      "Predicting images for  Faces_easy\n",
      "435/435 [==============================] - 1s     \n",
      "Predicting images for  watch\n",
      "239/239 [==============================] - 1s     \n",
      "Predicting images for  Leopards\n",
      "200/200 [==============================] - 1s     \n",
      "Predicting images for  bonsai\n",
      "128/128 [==============================] - 0s     \n",
      "Predicting images for  car_side\n",
      "123/123 [==============================] - 1s     \n",
      "Predicting images for  ketch\n",
      "114/114 [==============================] - 0s     \n",
      "Predicting images for  chandelier\n",
      " 96/107 [=========================>....] - ETA: 0sPredicting images for  hawksbill\n",
      "100/100 [==============================] - 0s     \n",
      "Predicting images for  grand_piano\n",
      "99/99 [==============================] - 0s     \n",
      "Predicting images for  brain\n",
      "98/98 [==============================] - 0s     \n",
      "Predicting images for  butterfly\n",
      "91/91 [==============================] - 0s     \n",
      "Predicting images for  helicopter\n",
      "88/88 [==============================] - 0s     \n",
      "Predicting images for  menorah\n",
      "87/87 [==============================] - 0s     \n",
      "Predicting images for  kangaroo\n",
      "86/86 [==============================] - 0s     \n",
      "Predicting images for  starfish\n",
      "86/86 [==============================] - 0s     \n",
      "Predicting images for  trilobite\n",
      "86/86 [==============================] - 0s     \n",
      "Predicting images for  ewer\n",
      "85/85 [==============================] - 0s     \n",
      "Predicting images for  sunflower\n",
      "85/85 [==============================] - 0s     \n",
      "Predicting images for  buddha\n",
      "85/85 [==============================] - 0s     \n",
      "Predicting images for  scorpion\n",
      "84/84 [==============================] - 0s     \n",
      "Predicting images for  revolver\n",
      "82/82 [==============================] - 0s     \n",
      "Predicting images for  laptop\n",
      "81/81 [==============================] - 0s     \n",
      "Predicting images for  ibis\n",
      "80/80 [==============================] - 0s     \n",
      "Predicting images for  llama\n",
      "78/78 [==============================] - 0s     \n",
      "Predicting images for  minaret\n",
      "76/76 [==============================] - 0s     \n",
      "Predicting images for  electric_guitar\n",
      "64/75 [========================>.....] - ETA: 0sPredicting images for  umbrella\n",
      "64/75 [========================>.....] - ETA: 0sPredicting images for  crab\n",
      "73/73 [==============================] - 0s     \n",
      "Predicting images for  crayfish\n",
      "70/70 [==============================] - 0s     \n",
      "Predicting images for  cougar_face\n",
      "69/69 [==============================] - 0s     \n",
      "Predicting images for  dragonfly\n",
      "64/68 [===========================>..] - ETA: 0sPredicting images for  flamingo\n",
      "64/67 [===========================>..] - ETA: 0sPredicting images for  dalmatian\n",
      "64/67 [===========================>..] - ETA: 0sPredicting images for  ferry\n",
      "64/67 [===========================>..] - ETA: 0sPredicting images for  lotus\n",
      "64/66 [============================>.] - ETA: 0sPredicting images for  dolphin\n",
      "64/65 [============================>.] - ETA: 0sPredicting images for  elephant\n",
      "64/64 [==============================] - 0s     \n",
      "Predicting images for  stop_sign\n",
      "64/64 [==============================] - 0s     \n",
      "Predicting images for  joshua_tree\n",
      "64/64 [==============================] - 0s     \n",
      "Predicting images for  soccer_ball\n",
      "64/64 [==============================] - 0s     \n",
      "Predicting images for  euphonium\n",
      "64/64 [==============================] - 0s     \n",
      "Predicting images for  schooner\n",
      "63/63 [==============================] - 1s     \n",
      "Predicting images for  chair\n",
      "62/62 [==============================] - 0s     \n",
      "Predicting images for  lamp\n",
      "61/61 [==============================] - 1s     \n",
      "Predicting images for  yin_yang\n",
      "60/60 [==============================] - 0s     \n",
      "Predicting images for  rhino\n",
      "59/59 [==============================] - 0s     \n",
      "Predicting images for  wheelchair\n",
      "59/59 [==============================] - 0s     \n",
      "Predicting images for  stegosaurus\n",
      "59/59 [==============================] - 0s     \n",
      "Predicting images for  cellphone\n",
      "59/59 [==============================] - 0s     \n",
      "Predicting images for  pyramid\n",
      "57/57 [==============================] - 0s     \n",
      "Predicting images for  sea_horse\n",
      "57/57 [==============================] - 0s     \n",
      "Predicting images for  cup\n",
      "57/57 [==============================] - 0s     \n",
      "Predicting images for  windsor_chair\n",
      "56/56 [==============================] - 0s     \n",
      "Predicting images for  accordion\n",
      "55/55 [==============================] - 0s     \n",
      "Predicting images for  nautilus\n",
      "55/55 [==============================] - 0s     \n",
      "Predicting images for  hedgehog\n",
      "54/54 [==============================] - 0s     \n",
      "Predicting images for  bass\n",
      "54/54 [==============================] - 0s     \n",
      "Predicting images for  emu\n",
      "53/53 [==============================] - 0s     \n",
      "Predicting images for  pizza\n",
      "53/53 [==============================] - 0s     \n",
      "Predicting images for  dollar_bill\n",
      "52/52 [==============================] - 0s     \n",
      "Predicting images for  crocodile_head\n",
      "51/51 [==============================] - 0s     \n",
      "Predicting images for  gramophone\n",
      "51/51 [==============================] - 0s     \n",
      "Predicting images for  camera\n",
      "50/50 [==============================] - 0s     \n",
      "Predicting images for  crocodile\n",
      "50/50 [==============================] - 0s     \n",
      "Predicting images for  tick\n",
      "49/49 [==============================] - 0s     \n",
      "Predicting images for  rooster\n",
      "49/49 [==============================] - 0s     \n",
      "Predicting images for  ceiling_fan\n",
      "47/47 [==============================] - 0s     \n",
      "Predicting images for  pagoda\n",
      "47/47 [==============================] - 0s     \n",
      "Predicting images for  barrel\n",
      "47/47 [==============================] - 0s     \n",
      "Predicting images for  cougar_body\n",
      "47/47 [==============================] - 0s     \n",
      "Predicting images for  beaver\n",
      "46/46 [==============================] - 0s     \n",
      "Predicting images for  flamingo_head\n",
      "45/45 [==============================] - 0s     \n",
      "Predicting images for  stapler\n",
      "45/45 [==============================] - 0s     \n",
      "Predicting images for  pigeon\n",
      "45/45 [==============================] - 0s     \n",
      "Predicting images for  brontosaurus\n",
      "32/43 [=====================>........] - ETA: 0sPredicting images for  cannon\n",
      "32/43 [=====================>........] - ETA: 0sPredicting images for  mandolin\n",
      "32/43 [=====================>........] - ETA: 0sPredicting images for  ant\n",
      "32/42 [=====================>........] - ETA: 0sPredicting images for  headphone\n",
      "32/42 [=====================>........] - ETA: 0sPredicting images for  anchor\n",
      "32/42 [=====================>........] - ETA: 0sPredicting images for  lobster\n",
      "32/41 [======================>.......] - ETA: 0sPredicting images for  mayfly\n",
      "32/40 [=======================>......] - ETA: 0sPredicting images for  saxophone\n",
      "32/40 [=======================>......] - ETA: 0sPredicting images for  scissors\n",
      "39/39 [==============================] - 0s     \n",
      "Predicting images for  okapi\n",
      "32/39 [=======================>......] - ETA: 0sPredicting images for  wrench\n",
      "32/39 [=======================>......] - ETA: 0sPredicting images for  panda\n",
      "32/38 [========================>.....] - ETA: 0sPredicting images for  water_lilly\n",
      "32/37 [========================>.....] - ETA: 0sPredicting images for  snoopy\n",
      "32/35 [==========================>...] - ETA: 0sPredicting images for  strawberry\n",
      "32/35 [==========================>...] - ETA: 0sPredicting images for  octopus\n",
      "32/35 [==========================>...] - ETA: 0sPredicting images for  garfield\n",
      "32/34 [===========================>..] - ETA: 0sPredicting images for  platypus\n",
      "32/34 [===========================>..] - ETA: 0sPredicting images for  wild_cat\n",
      "32/34 [===========================>..] - ETA: 0sPredicting images for  gerenuk\n",
      "32/34 [===========================>..] - ETA: 0sPredicting images for  binocular\n",
      "32/33 [============================>.] - ETA: 0sPredicting images for  metronome\n",
      "32/32 [==============================] - 0s\n",
      "Predicting images for  inline_skate\n",
      "31/31 [==============================] - 0s\n",
      "Accuracy found for each class\n"
     ]
    }
   ],
   "source": [
    "# Testing the dropout model\n",
    "cnn_dropout_score_dict = find_accuracy_per_category('./data', model_cnn_dropout)"
   ]
  },
  {
   "cell_type": "code",
   "execution_count": 36,
   "metadata": {},
   "outputs": [
    {
     "name": "stdout",
     "output_type": "stream",
     "text": [
      "800/800 [==============================] - 10s    \n",
      "798/798 [==============================] - 9s     \n",
      "435/435 [==============================] - 6s     \n",
      "435/435 [==============================] - 5s     \n",
      "239/239 [==============================] - 3s     \n",
      "200/200 [==============================] - 2s     \n",
      "128/128 [==============================] - 1s     \n",
      "123/123 [==============================] - 1s     \n",
      "114/114 [==============================] - 1s     \n",
      "107/107 [==============================] - 1s     \n",
      "100/100 [==============================] - 1s     \n",
      "99/99 [==============================] - 1s     \n",
      "98/98 [==============================] - 1s     \n",
      "91/91 [==============================] - 0s     \n",
      "88/88 [==============================] - 1s     \n",
      "87/87 [==============================] - 1s     \n",
      "86/86 [==============================] - 1s     \n",
      "86/86 [==============================] - 0s     \n",
      "86/86 [==============================] - 0s     \n",
      "85/85 [==============================] - 1s     \n",
      "85/85 [==============================] - 0s     \n",
      "85/85 [==============================] - 0s     \n",
      "84/84 [==============================] - 1s     \n",
      "82/82 [==============================] - 0s     \n",
      "81/81 [==============================] - 1s     \n",
      "80/80 [==============================] - 1s     \n",
      "78/78 [==============================] - 1s     \n",
      "76/76 [==============================] - 1s     \n",
      "75/75 [==============================] - 0s     \n",
      "75/75 [==============================] - 0s     \n",
      "73/73 [==============================] - 1s     \n",
      "70/70 [==============================] - 1s     \n",
      "69/69 [==============================] - 1s     \n",
      "68/68 [==============================] - 0s     \n",
      "67/67 [==============================] - 0s     \n",
      "67/67 [==============================] - 0s     \n",
      "67/67 [==============================] - 0s     \n",
      "66/66 [==============================] - 0s     \n",
      "65/65 [==============================] - 0s     \n",
      "64/64 [==============================] - 0s     \n",
      "64/64 [==============================] - 0s     \n",
      "64/64 [==============================] - 0s     \n",
      "64/64 [==============================] - 0s     \n",
      "64/64 [==============================] - 0s     \n",
      "63/63 [==============================] - 1s     \n",
      "62/62 [==============================] - 0s     \n",
      "61/61 [==============================] - 1s     \n",
      "60/60 [==============================] - 1s     \n",
      "59/59 [==============================] - 0s     \n",
      "59/59 [==============================] - 0s     \n",
      "59/59 [==============================] - 0s     \n",
      "59/59 [==============================] - 0s     \n",
      "57/57 [==============================] - 1s     \n",
      "57/57 [==============================] - 0s     \n",
      "57/57 [==============================] - 0s     \n",
      "56/56 [==============================] - 0s     \n",
      "55/55 [==============================] - 0s     \n",
      "55/55 [==============================] - 0s     \n",
      "54/54 [==============================] - 0s     \n",
      "54/54 [==============================] - 0s     \n",
      "53/53 [==============================] - 0s     \n",
      "53/53 [==============================] - 0s     \n",
      "52/52 [==============================] - 0s     \n",
      "51/51 [==============================] - 0s     \n",
      "51/51 [==============================] - 0s     \n",
      "50/50 [==============================] - 0s     \n",
      "50/50 [==============================] - 0s     \n",
      "49/49 [==============================] - 0s     \n",
      "49/49 [==============================] - 0s     \n",
      "47/47 [==============================] - 0s     \n",
      "47/47 [==============================] - 0s     \n",
      "47/47 [==============================] - 0s     \n",
      "47/47 [==============================] - 0s     \n",
      "46/46 [==============================] - 0s     \n",
      "45/45 [==============================] - 0s     \n",
      "45/45 [==============================] - 0s     \n",
      "45/45 [==============================] - 0s     \n",
      "43/43 [==============================] - 0s     \n",
      "43/43 [==============================] - 0s     \n",
      "43/43 [==============================] - 0s     \n",
      "42/42 [==============================] - 0s     \n",
      "42/42 [==============================] - 0s     \n",
      "42/42 [==============================] - 0s     \n",
      "41/41 [==============================] - 0s     \n",
      "40/40 [==============================] - 0s     \n",
      "40/40 [==============================] - 0s     \n",
      "39/39 [==============================] - 0s     \n",
      "39/39 [==============================] - 0s     \n",
      "39/39 [==============================] - 0s     \n",
      "38/38 [==============================] - 0s     \n",
      "37/37 [==============================] - 0s     \n",
      "35/35 [==============================] - 0s     \n",
      "35/35 [==============================] - 0s     \n",
      "35/35 [==============================] - 0s     \n",
      "34/34 [==============================] - 0s     \n",
      "32/32 [==============================] - 0s\n",
      "31/31 [==============================] - 0s\n",
      "Accuracy found for each class\n"
     ]
    }
   ],
   "source": [
    "# Testing the transfer learning model\n",
    "cnn_dropout_score_dict_transfer_learning = find_accuracy_per_category('./data', transfer_learning_model)"
   ]
  },
  {
   "cell_type": "code",
   "execution_count": 102,
   "metadata": {},
   "outputs": [
    {
     "name": "stdout",
     "output_type": "stream",
     "text": [
      "airplanes : 0.98875\n",
      "Motorbikes : 0.994987468672\n",
      "Faces : 0.977011494253\n",
      "Faces_easy : 0.990804597701\n",
      "watch : 0.941422594392\n",
      "Leopards : 0.97\n",
      "bonsai : 0.875\n",
      "car_side : 0.869918700641\n",
      "ketch : 0.921052632625\n",
      "chandelier : 0.887850470075\n",
      "hawksbill : 0.83\n",
      "grand_piano : 0.959595959596\n",
      "brain : 0.867346938776\n",
      "butterfly : 0.901098907649\n",
      "helicopter : 0.749999994581\n",
      "menorah : 0.896551716602\n",
      "kangaroo : 0.825581400893\n",
      "starfish : 0.895348833051\n",
      "trilobite : 0.93023256507\n",
      "ewer : 0.835294121854\n",
      "sunflower : 0.976470588937\n",
      "buddha : 0.83529411905\n",
      "scorpion : 0.797619041942\n",
      "revolver : 0.939024390244\n",
      "laptop : 0.827160496771\n",
      "ibis : 0.7625\n",
      "llama : 0.833333333333\n",
      "minaret : 0.894736845242\n",
      "electric_guitar : 0.86666667064\n",
      "umbrella : 0.786666665872\n",
      "crab : 0.876712329584\n",
      "crayfish : 0.714285712583\n",
      "cougar_face : 0.855072464632\n",
      "dragonfly : 0.838235294118\n",
      "flamingo : 0.791044776119\n",
      "dalmatian : 0.865671641791\n",
      "ferry : 0.805970149699\n",
      "lotus : 0.833333333333\n",
      "dolphin : 0.769230769231\n",
      "elephant : 0.734375\n",
      "stop_sign : 0.859375\n",
      "joshua_tree : 0.859375\n",
      "soccer_ball : 0.828125\n",
      "euphonium : 0.890625\n",
      "schooner : 0.730158733943\n",
      "chair : 0.822580635548\n",
      "lamp : 0.786885241016\n",
      "yin_yang : 0.899999988079\n",
      "rhino : 0.762711863397\n",
      "wheelchair : 0.915254230216\n",
      "stegosaurus : 0.796610158379\n",
      "cellphone : 0.898305077674\n",
      "pyramid : 0.701754389102\n",
      "sea_horse : 0.701754389102\n",
      "cup : 0.719298241431\n",
      "windsor_chair : 0.875000008515\n",
      "accordion : 0.872727260806\n",
      "nautilus : 0.836363628778\n",
      "hedgehog : 0.870370363748\n",
      "bass : 0.814814812607\n",
      "emu : 0.8679245328\n",
      "pizza : 0.811320756966\n",
      "dollar_bill : 0.942307687723\n",
      "crocodile_head : 0.784313727828\n",
      "gramophone : 0.862745100377\n",
      "camera : 0.900000002384\n",
      "crocodile : 0.780000007153\n",
      "tick : 0.897959183673\n",
      "rooster : 0.877551022841\n",
      "ceiling_fan : 0.680851071439\n",
      "pagoda : 0.957446808511\n",
      "barrel : 0.808510639566\n",
      "cougar_body : 0.872340430605\n",
      "beaver : 0.69565216873\n",
      "flamingo_head : 0.71111111376\n",
      "stapler : 0.777777783076\n",
      "pigeon : 0.711111119058\n",
      "brontosaurus : 0.697674424149\n",
      "cannon : 0.720930231172\n",
      "mandolin : 0.883720930233\n",
      "ant : 0.642857148534\n",
      "headphone : 0.785714280038\n",
      "anchor : 0.833333336172\n",
      "lobster : 0.878048783395\n",
      "mayfly : 0.825\n",
      "saxophone : 0.775\n",
      "scissors : 0.820512822041\n",
      "okapi : 0.974358974359\n",
      "wrench : 0.897435900493\n",
      "panda : 0.736842102126\n",
      "water_lilly : 0.837837839449\n",
      "snoopy : 0.885714285714\n",
      "strawberry : 0.857142858846\n",
      "octopus : 0.742857142857\n",
      "garfield : 0.882352941176\n",
      "platypus : 0.911764705882\n",
      "wild_cat : 0.764705882353\n",
      "gerenuk : 0.705882352941\n",
      "binocular : 0.666666666667\n",
      "metronome : 0.75\n",
      "inline_skate : 0.806451618671\n",
      "Average accuracy :  0.835396726987\n"
     ]
    }
   ],
   "source": [
    "average_accuracy = sum(scores[1] for scores in cnn_dropout_score_dict.values()) / 101\n",
    "for category, scores in cnn_dropout_score_dict.items():\n",
    "    print(f\"{category}: {scores[1]}\")\n",
    "print(f\"Average accuracy: {average_accuracy}\")\n"
   ]
  },
  {
   "cell_type": "markdown",
   "metadata": {},
   "source": [
    "**Thus, it is evident that our CNN models yield an average accuracy of 83% per category. This is a decent outcome.**"
   ]
  },
  {
   "cell_type": "code",
   "execution_count": 38,
   "metadata": {},
   "outputs": [
    {
     "name": "stdout",
     "output_type": "stream",
     "text": [
      "800/800 [==============================] - 9s     \n",
      "798/798 [==============================] - 9s     \n",
      "435/435 [==============================] - 5s     \n",
      "435/435 [==============================] - 5s     \n",
      "239/239 [==============================] - 2s     \n",
      "200/200 [==============================] - 2s     \n",
      "128/128 [==============================] - 1s     \n",
      "123/123 [==============================] - 1s     \n",
      "114/114 [==============================] - 1s     \n",
      "107/107 [==============================] - 1s     \n",
      "100/100 [==============================] - 1s     \n",
      "99/99 [==============================] - 1s     \n",
      "91/91 [==============================] - 0s     \n",
      "88/88 [==============================] - 0s     \n",
      "87/87 [==============================] - 0s     \n",
      "86/86 [==============================] - 0s     \n",
      "86/86 [==============================] - 0s     \n",
      "86/86 [==============================] - 0s     \n",
      "85/85 [==============================] - 0s     \n",
      "85/85 [==============================] - 0s     \n",
      "85/85 [==============================] - 0s     \n",
      "84/84 [==============================] - 0s     \n",
      "82/82 [==============================] - 0s     \n",
      "81/81 [==============================] - 0s     \n",
      "80/80 [==============================] - 0s     \n",
      "78/78 [==============================] - 0s     \n",
      "76/76 [==============================] - 0s     \n",
      "75/75 [==============================] - 0s     \n",
      "75/75 [==============================] - 0s     \n",
      "73/73 [==============================] - 0s     \n",
      "70/70 [==============================] - 0s     \n",
      "69/69 [==============================] - 0s     \n",
      "68/68 [==============================] - 0s     \n",
      "67/67 [==============================] - 0s     \n",
      "67/67 [==============================] - 0s     \n",
      "67/67 [==============================] - 0s     \n",
      "64/64 [==============================] - 0s     \n",
      "64/64 [==============================] - 0s     \n",
      "64/64 [==============================] - 0s     \n",
      "64/64 [==============================] - 0s     \n",
      "64/64 [==============================] - 0s     \n",
      "63/63 [==============================] - 0s     \n",
      "62/62 [==============================] - 0s     \n",
      "61/61 [==============================] - 0s     \n",
      "60/60 [==============================] - 0s     \n",
      "59/59 [==============================] - 0s     \n",
      "59/59 [==============================] - 0s     \n",
      "59/59 [==============================] - 0s     \n",
      "59/59 [==============================] - 0s     \n",
      "57/57 [==============================] - 0s     \n",
      "57/57 [==============================] - 0s     \n",
      "57/57 [==============================] - 0s     \n",
      "56/56 [==============================] - 0s     \n",
      "55/55 [==============================] - 0s     \n",
      "55/55 [==============================] - 0s     \n",
      "54/54 [==============================] - 0s     \n",
      "54/54 [==============================] - 0s     \n",
      "53/53 [==============================] - 0s     \n",
      "53/53 [==============================] - 0s     \n",
      "52/52 [==============================] - 0s     \n",
      "51/51 [==============================] - 0s     \n",
      "51/51 [==============================] - 0s     \n",
      "50/50 [==============================] - 0s     \n",
      "50/50 [==============================] - 0s     \n",
      "49/49 [==============================] - 0s     \n",
      "49/49 [==============================] - 0s     \n",
      "47/47 [==============================] - 0s     \n",
      "47/47 [==============================] - 0s     \n",
      "47/47 [==============================] - 0s     \n",
      "47/47 [==============================] - 0s     \n",
      "46/46 [==============================] - 0s     \n",
      "45/45 [==============================] - 0s     \n",
      "45/45 [==============================] - 0s     \n",
      "45/45 [==============================] - 0s     \n",
      "43/43 [==============================] - 0s     \n",
      "43/43 [==============================] - 0s     \n",
      "43/43 [==============================] - 0s     \n",
      "42/42 [==============================] - 0s     \n",
      "42/42 [==============================] - 0s     \n",
      "42/42 [==============================] - 0s     \n",
      "41/41 [==============================] - 0s     \n",
      "40/40 [==============================] - 0s     \n",
      "40/40 [==============================] - 0s     \n",
      "39/39 [==============================] - 0s     \n",
      "39/39 [==============================] - 0s     \n",
      "39/39 [==============================] - 0s     \n",
      "38/38 [==============================] - 0s     \n",
      "37/37 [==============================] - 0s     \n",
      "35/35 [==============================] - 0s     \n",
      "35/35 [==============================] - 0s     \n",
      "35/35 [==============================] - 0s     \n",
      "34/34 [==============================] - 0s     \n",
      "32/32 [==============================] - 0s\n",
      "31/31 [==============================] - 0s\n",
      "Accuracy found for each class\n",
      "airplanes : 1.0\n",
      "Motorbikes : 1.0\n",
      "Faces : 1.0\n",
      "Faces_easy : 0.990804597701\n",
      "watch : 0.987447698745\n",
      "Leopards : 1.0\n",
      "bonsai : 0.9921875\n",
      "car_side : 1.0\n",
      "ketch : 0.982456140351\n",
      "chandelier : 0.981308411215\n",
      "hawksbill : 0.98\n",
      "grand_piano : 1.0\n",
      "brain : 0.979591836735\n",
      "butterfly : 0.956043962594\n",
      "helicopter : 0.954545454545\n",
      "menorah : 0.965517241379\n",
      "kangaroo : 1.0\n",
      "starfish : 0.988372093023\n",
      "trilobite : 0.976744181888\n",
      "ewer : 0.976470588235\n",
      "sunflower : 0.988235294118\n",
      "buddha : 0.976470588937\n",
      "scorpion : 0.952380958058\n",
      "revolver : 0.975609750282\n",
      "laptop : 1.0\n",
      "ibis : 0.975\n",
      "llama : 0.974358974359\n",
      "minaret : 0.986842105263\n",
      "electric_guitar : 1.0\n",
      "umbrella : 1.0\n",
      "crab : 0.972602739726\n",
      "crayfish : 0.942857142857\n",
      "cougar_face : 1.0\n",
      "dragonfly : 0.941176470588\n",
      "flamingo : 0.985074626866\n",
      "dalmatian : 1.0\n",
      "ferry : 1.0\n",
      "lotus : 0.924242424242\n",
      "dolphin : 1.0\n",
      "elephant : 0.9375\n",
      "stop_sign : 1.0\n",
      "joshua_tree : 0.984375\n",
      "soccer_ball : 0.984375\n",
      "euphonium : 0.984375\n",
      "schooner : 0.968253968254\n",
      "chair : 1.0\n",
      "lamp : 0.96721310596\n",
      "yin_yang : 1.0\n",
      "rhino : 1.0\n",
      "wheelchair : 0.966101687844\n",
      "stegosaurus : 0.898305087777\n",
      "cellphone : 1.0\n",
      "pyramid : 1.0\n",
      "sea_horse : 0.877192987685\n",
      "cup : 0.982456140351\n",
      "windsor_chair : 0.982142857143\n",
      "accordion : 1.0\n",
      "nautilus : 1.0\n",
      "hedgehog : 1.0\n",
      "bass : 0.96296295634\n",
      "emu : 1.0\n",
      "pizza : 1.0\n",
      "dollar_bill : 1.0\n",
      "crocodile_head : 1.0\n",
      "gramophone : 1.0\n",
      "camera : 1.0\n",
      "crocodile : 0.920000002384\n",
      "tick : 1.0\n",
      "rooster : 0.979591837951\n",
      "ceiling_fan : 0.957446809779\n",
      "pagoda : 0.978723405524\n",
      "barrel : 1.0\n",
      "cougar_body : 1.0\n",
      "beaver : 0.978260861791\n",
      "flamingo_head : 0.955555555556\n",
      "stapler : 0.977777777778\n",
      "pigeon : 1.0\n",
      "brontosaurus : 0.976744186047\n",
      "cannon : 0.9069767428\n",
      "mandolin : 0.906976744186\n",
      "ant : 0.928571422895\n",
      "headphone : 0.97619047619\n",
      "anchor : 0.904761904762\n",
      "lobster : 0.878048781942\n",
      "mayfly : 0.95\n",
      "saxophone : 0.975\n",
      "scissors : 0.948717950246\n",
      "okapi : 1.0\n",
      "wrench : 0.948717950246\n",
      "panda : 0.973684210526\n",
      "water_lilly : 0.864864864865\n",
      "snoopy : 0.942857142857\n",
      "strawberry : 1.0\n",
      "octopus : 0.828571428571\n",
      "garfield : 1.0\n",
      "platypus : 0.970588235294\n",
      "wild_cat : 0.941176470588\n",
      "gerenuk : 1.0\n",
      "binocular : 1.0\n",
      "metronome : 1.0\n",
      "inline_skate : 1.0\n",
      "Average accuracy :  0.97397425085\n"
     ]
    }
   ],
   "source": [
    "def find_average_accuracy_for_model(data_directory, nn_model):\n",
    "    category_accuracy_dict = find_accuracy_per_category(data_directory, nn_model)\n",
    "    average_accuracy = sum(scores[1] for scores in category_accuracy_dict.values()) / 101\n",
    "    for category, scores in category_accuracy_dict.items():\n",
    "        print(f\"{category}: {scores[1]}\")\n",
    "    print(f\"Average accuracy: {average_accuracy}\")\n",
    "\n",
    "find_average_accuracy_for_model('./data', transfer_learning_model)\n"
   ]
  },
  {
   "cell_type": "markdown",
   "metadata": {},
   "source": [
    "**The transfer learning model yields an impressive average accuracy of 97%.**"
   ]
  },
  {
   "cell_type": "markdown",
   "metadata": {},
   "source": [
    "## Further Steps\n",
    "\n",
    "Given the time constraints, several potential enhancements and explorations were left unaddressed, yet they could significantly contribute to:\n",
    "\n",
    "**Enhancing Object Classification:**\n",
    "- There's room for optimizing our CNN models further. Given the relative simplicity of the dataset compared to more complex ones like ImageNet, a well-optimized simplistic model could yield satisfactory results.\n",
    "- Incorporating visualizations to monitor losses, training progress, and predictions could provide better insights and facilitate model tuning.\n",
    "- Experimenting with alternative algorithms and neural network architectures might unveil better performing models.\n",
    "\n",
    "**Venturing into Object Detection:**\n",
    "- The current dataset, primarily featuring isolated and centered objects, poses a lesser challenge for object detection tasks. A basic implementation using sliding windows or R-CNN could potentially provide reasonable bounding boxes for object localization.\n",
    "- For more precise object detection and localization, adopting more advanced algorithms like YOLO (You Only Look Once) or SSD (Single Shot Multibox Detector) could be beneficial. These algorithms could efficiently identify and locate multiple objects within images, enriching the object detection capability."
   ]
  },
  {
   "cell_type": "code",
   "execution_count": null,
   "metadata": {},
   "outputs": [],
   "source": []
  }
 ],
 "metadata": {
  "kernelspec": {
   "display_name": "Python 3 (ipykernel)",
   "language": "python",
   "name": "python3"
  },
  "language_info": {
   "codemirror_mode": {
    "name": "ipython",
    "version": 3
   },
   "file_extension": ".py",
   "mimetype": "text/x-python",
   "name": "python",
   "nbconvert_exporter": "python",
   "pygments_lexer": "ipython3",
   "version": "3.9.12"
  }
 },
 "nbformat": 4,
 "nbformat_minor": 2
}
